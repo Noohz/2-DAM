{
 "cells": [
  {
   "cell_type": "markdown",
   "id": "f5a4b9c0",
   "metadata": {
    "id": "f5a4b9c0",
    "slideshow": {
     "slide_type": "slide"
    }
   },
   "source": [
    "## 1. Particularidades de los tipos de datos en Python \n",
    "---"
   ]
  },
  {
   "cell_type": "markdown",
   "id": "5e1e6307",
   "metadata": {
    "id": "5e1e6307",
    "slideshow": {
     "slide_type": "subslide"
    }
   },
   "source": [
    "Como hemos visto, una variable es un espacio donde guardar una determinada información. En función del tipo de información que almacenemos la variable será de un tipo o de otro.  \n",
    "\n",
    "---\n",
    "\n",
    "![tipos_datos.PNG](https://drive.google.com/uc?id=1Bm-TfTX_jrjpxqPzYxktPfGvBO-kch1h)\n",
    "\n",
    "---"
   ]
  },
  {
   "cell_type": "markdown",
   "id": "3825a4ff",
   "metadata": {
    "id": "3825a4ff",
    "slideshow": {
     "slide_type": "subslide"
    }
   },
   "source": [
    "**Recuerda que en python:**  \n",
    "\n",
    "* **Tipos Dinámicos.** No requere que se defina el tipo de una variable. \n",
    "* **Fuertemente Tipado.** Exiten operaciones que no están permitidas entre tipos que no son compatibles.\n",
    "* **Los tipos son Clases.** En python todos sus elementos son clases y los datos una vez identificados, se convierten en objetos instanciados del tipo al que pertenecen."
   ]
  },
  {
   "cell_type": "markdown",
   "id": "2c706b05",
   "metadata": {
    "id": "2c706b05",
    "slideshow": {
     "slide_type": "slide"
    }
   },
   "source": [
    "## 2. Comentarios\n",
    "___\n",
    "\n",
    "Documentar nuestro código desde el principio es **más importante** de lo que la mayoría de los nuevos desarrolladores creen.  \n",
    "\n",
    "* La documentación en el desarrollo de software se refiere a la idea de dar a nuestras variables, funciones, métodos, clases y\n",
    "otros identificadores, **nombres descriptivos.**  \n",
    "\n",
    "* También se refiere a **agregar buenos comentarios explicativos.** Cuando estas sumergido en el desarrollo de tu última creación, es fácil crear variables y funciones sin explicaciones. Un mes o un año más tarde, cuando inevitablemente regresemos a nuestro código, **pasaremos una cantidad excesiva de tiempo tratando de averiguar qué hace ese código.**  \n",
    "\n",
    "* Haciendo que nuestro código sea autodocumentado (es decir, usando nombres descriptivos) y agregando comentarios cuando sea necesario, haremos que el código sea más legible para nosotros y para cualquier otra persona que pueda usar tu codigo.  \n",
    "\n",
    "* ¡Esto también hará que actualizar nuestro código y refactorizarlo **sea más fácil**!"
   ]
  },
  {
   "cell_type": "markdown",
   "id": "347af980",
   "metadata": {
    "id": "347af980",
    "slideshow": {
     "slide_type": "subslide"
    }
   },
   "source": [
    "### 2.1 Comentarios de 1 línea.  \n",
    "\n",
    "Utilizamos la almohadilla para añadir un comentario de una única línea"
   ]
  },
  {
   "cell_type": "code",
   "execution_count": null,
   "id": "5207b4bf",
   "metadata": {
    "id": "5207b4bf",
    "slideshow": {
     "slide_type": "fragment"
    }
   },
   "outputs": [],
   "source": [
    "#esto es un comentario\n",
    "a = 14\n",
    "b = 5\n",
    "a // b #esto es otro comentario de prueba"
   ]
  },
  {
   "cell_type": "markdown",
   "id": "e0efcff2",
   "metadata": {
    "id": "e0efcff2",
    "slideshow": {
     "slide_type": "subslide"
    }
   },
   "source": [
    "### 2.2 Comentarios de varias líneas.  \n",
    "\n",
    "A este tipo de comentarios se les suele llamar **\"Cadenas de documentación\"** o **Docstring**  \n",
    "Lo hacemos encerrando entre triples comillas dobles el texto a comentar:  \n",
    "\n",
    "\"\"\"Esto es un es un comentario  \n",
    "de varias líneas  \n",
    "para realizar pruebas  \n",
    "\"\"\"\n",
    "\n",
    "**Nota:**  \n",
    "Las \"\"\" con las que finaliza un DocString, **deberian situarse en una línea separada, y preferiblemente estar en una línea en blanco.**\n",
    "\n"
   ]
  },
  {
   "cell_type": "code",
   "execution_count": null,
   "id": "7f002eb1",
   "metadata": {
    "id": "7f002eb1",
    "slideshow": {
     "slide_type": "fragment"
    }
   },
   "outputs": [],
   "source": [
    "\"\"\"\n",
    "Esto es un es un comentario\n",
    "de varias líneas\n",
    "para realizar pruebas\n",
    "Vamos a realizar la división entera de dos números\n",
    "\"\"\"\n",
    "a = 14\n",
    "b = 5\n",
    "a // b #esto es otro comentario de prueba"
   ]
  },
  {
   "cell_type": "markdown",
   "id": "4f2bdc7a",
   "metadata": {
    "id": "4f2bdc7a",
    "slideshow": {
     "slide_type": "fragment"
    }
   },
   "source": [
    "**Es Importante que escribas docstrings para todos los módulos, funciones, clases y métodos.**  \n",
    "\n"
   ]
  },
  {
   "cell_type": "markdown",
   "id": "96272c9b",
   "metadata": {
    "id": "96272c9b",
    "slideshow": {
     "slide_type": "slide"
    }
   },
   "source": [
    "## 3. Funciones Built-in para trabajar con números\n",
    "___\n",
    "El intérprete de Python tiene una serie de funciones y tipos incluidos en él que están siempre disponibles.\n",
    "Puedes encontrarlas todas en el siguiente enlace: https://docs.python.org/es/3/library/functions.html\n",
    "\n",
    "Nosotros vamos a ver alguna de ellas..."
   ]
  },
  {
   "cell_type": "markdown",
   "id": "07a3aacf",
   "metadata": {
    "id": "07a3aacf",
    "slideshow": {
     "slide_type": "subslide"
    }
   },
   "source": [
    "**len()**  \n",
    "Retorna el tamaño (el número de elementos) de un objeto."
   ]
  },
  {
   "cell_type": "code",
   "execution_count": 6,
   "id": "793b9f4e",
   "metadata": {
    "id": "793b9f4e",
    "slideshow": {
     "slide_type": "fragment"
    }
   },
   "outputs": [
    {
     "name": "stdout",
     "output_type": "stream",
     "text": [
      "10\n"
     ]
    },
    {
     "data": {
      "text/plain": [
       "3"
      ]
     },
     "execution_count": 6,
     "metadata": {},
     "output_type": "execute_result"
    }
   ],
   "source": [
    "a = \"Hola mundo\"\n",
    "print(len(a))\n",
    "\n",
    "lista = [1, 2, 3]\n",
    "len(lista)"
   ]
  },
  {
   "cell_type": "code",
   "execution_count": null,
   "id": "1a086034",
   "metadata": {
    "id": "1a086034",
    "slideshow": {
     "slide_type": "fragment"
    }
   },
   "outputs": [],
   "source": []
  },
  {
   "cell_type": "markdown",
   "id": "0ff72afb",
   "metadata": {
    "id": "0ff72afb",
    "slideshow": {
     "slide_type": "subslide"
    }
   },
   "source": [
    "**abs()**  \n",
    "Devuelve el valor absoluto de un número entero o en coma flotante"
   ]
  },
  {
   "cell_type": "code",
   "execution_count": 7,
   "id": "897597de",
   "metadata": {
    "id": "897597de",
    "slideshow": {
     "slide_type": "fragment"
    }
   },
   "outputs": [
    {
     "data": {
      "text/plain": [
       "8"
      ]
     },
     "execution_count": 7,
     "metadata": {},
     "output_type": "execute_result"
    }
   ],
   "source": [
    "a = -8\n",
    "abs(a)"
   ]
  },
  {
   "cell_type": "code",
   "execution_count": null,
   "id": "4aaa18ed",
   "metadata": {
    "id": "4aaa18ed",
    "slideshow": {
     "slide_type": "fragment"
    }
   },
   "outputs": [],
   "source": []
  },
  {
   "cell_type": "markdown",
   "id": "bec61bcb",
   "metadata": {
    "id": "bec61bcb",
    "slideshow": {
     "slide_type": "subslide"
    }
   },
   "source": [
    "**bin()**  \n",
    "\n",
    "Convierte entero a binario"
   ]
  },
  {
   "cell_type": "code",
   "execution_count": 13,
   "id": "50fabcc3",
   "metadata": {
    "id": "50fabcc3",
    "slideshow": {
     "slide_type": "fragment"
    }
   },
   "outputs": [
    {
     "name": "stdout",
     "output_type": "stream",
     "text": [
      "0b10\n",
      "2\n"
     ]
    }
   ],
   "source": [
    "a = 2\n",
    "c = bin(a)\n",
    "print(c)\n",
    "\n"
   ]
  },
  {
   "cell_type": "code",
   "execution_count": 42,
   "id": "5e31a52c",
   "metadata": {
    "id": "5e31a52c",
    "slideshow": {
     "slide_type": "fragment"
    }
   },
   "outputs": [
    {
     "name": "stdout",
     "output_type": "stream",
     "text": [
      "Versión Binario: 0b1000\n",
      "Versión Decimal: 8\n"
     ]
    }
   ],
   "source": [
    "a = 8\n",
    "b = bin(a)\n",
    "\n",
    "#Conversión de binario a decimal\n",
    "print(\"Versión Binario: \" + b)\n",
    "BinD = int(b,2)\n",
    "print(\"Versión Decimal: \" + str(BinD))"
   ]
  },
  {
   "cell_type": "code",
   "execution_count": 40,
   "id": "896ae55f",
   "metadata": {},
   "outputs": [
    {
     "name": "stdout",
     "output_type": "stream",
     "text": [
      "Versión Octal: 0o10\n",
      "Versión Decimal: 8\n"
     ]
    }
   ],
   "source": [
    "a = 8\n",
    "c = oct(a)\n",
    "\n",
    "#Conversión de octal a decimal\n",
    "print(\"Versión Octal: \" + str(c))\n",
    "OctD = int(c, 8)\n",
    "print(\"Versión Decimal: \" + str(OctD))"
   ]
  },
  {
   "cell_type": "code",
   "execution_count": 34,
   "id": "801aada6",
   "metadata": {},
   "outputs": [
    {
     "name": "stdout",
     "output_type": "stream",
     "text": [
      "Versión Hex: 0x14\n",
      "Versión Decimal: 20\n"
     ]
    }
   ],
   "source": [
    "a = 20\n",
    "c = hex(a)\n",
    "\n",
    "#Conversión de hexadecimal a decimal\n",
    "print(\"Versión Hex: \" + c)\n",
    "HexD = int(c, 16)\n",
    "print(\"Versión Decimal: \" + str(HexD))"
   ]
  },
  {
   "cell_type": "markdown",
   "id": "88cc1a0d",
   "metadata": {
    "id": "88cc1a0d",
    "slideshow": {
     "slide_type": "subslide"
    }
   },
   "source": [
    "**divmod()**  \n",
    "\n",
    "Recibe dos parámetros, (dividendo y divisor), y devuelve dos valores: resultado de la división entera y el resto."
   ]
  },
  {
   "cell_type": "code",
   "execution_count": 9,
   "id": "dc442ce6",
   "metadata": {
    "id": "dc442ce6",
    "slideshow": {
     "slide_type": "fragment"
    }
   },
   "outputs": [
    {
     "data": {
      "text/plain": [
       "(2, 1)"
      ]
     },
     "execution_count": 9,
     "metadata": {},
     "output_type": "execute_result"
    }
   ],
   "source": [
    "a = 5\n",
    "divmod(a,2)"
   ]
  },
  {
   "cell_type": "markdown",
   "id": "7a211f47",
   "metadata": {
    "id": "7a211f47",
    "slideshow": {
     "slide_type": "subslide"
    }
   },
   "source": [
    "**float()**  \n",
    "\n",
    "Devuelve un número en coma flotante"
   ]
  },
  {
   "cell_type": "code",
   "execution_count": null,
   "id": "ff004268",
   "metadata": {
    "id": "ff004268",
    "slideshow": {
     "slide_type": "fragment"
    }
   },
   "outputs": [],
   "source": [
    "num = 5\n",
    "\n",
    "numFloat = float(num)\n",
    "\n",
    "print(num)\n",
    "print(numFloat)"
   ]
  },
  {
   "cell_type": "code",
   "execution_count": null,
   "id": "ab0d6444",
   "metadata": {
    "id": "ab0d6444",
    "slideshow": {
     "slide_type": "fragment"
    }
   },
   "outputs": [],
   "source": []
  },
  {
   "cell_type": "markdown",
   "id": "b68ba95c",
   "metadata": {
    "id": "b68ba95c",
    "slideshow": {
     "slide_type": "subslide"
    }
   },
   "source": [
    "**int()**  \n",
    "\n",
    "Devuelve un número entero  .\n",
    "La función solo procesa correctamente cadenas que contengan exclusivamente números."
   ]
  },
  {
   "cell_type": "code",
   "execution_count": null,
   "id": "34407ccf",
   "metadata": {
    "id": "34407ccf",
    "slideshow": {
     "slide_type": "fragment"
    }
   },
   "outputs": [],
   "source": [
    "numero_string = input(\"Ingrese un número: \")\n",
    "\n",
    "numero_entero = int(numero_string)\n",
    "\n",
    "print(\"El número ingresado como entero es:\", numero_entero)"
   ]
  },
  {
   "cell_type": "code",
   "execution_count": null,
   "id": "13498606",
   "metadata": {
    "id": "13498606",
    "slideshow": {
     "slide_type": "fragment"
    }
   },
   "outputs": [],
   "source": []
  },
  {
   "cell_type": "code",
   "execution_count": null,
   "id": "5a7660a9",
   "metadata": {
    "id": "5a7660a9",
    "slideshow": {
     "slide_type": "fragment"
    }
   },
   "outputs": [],
   "source": []
  },
  {
   "cell_type": "code",
   "execution_count": null,
   "id": "34bc4199",
   "metadata": {
    "id": "34bc4199",
    "slideshow": {
     "slide_type": "fragment"
    }
   },
   "outputs": [],
   "source": []
  },
  {
   "cell_type": "markdown",
   "id": "2cc18d9f",
   "metadata": {
    "id": "2cc18d9f",
    "slideshow": {
     "slide_type": "subslide"
    }
   },
   "source": [
    "**max() y min()**  \n",
    "\n",
    "max y min recibe más de un argumento, **devuelven el mayor y menor de ellos respectivamente.**\n"
   ]
  },
  {
   "cell_type": "code",
   "execution_count": 11,
   "id": "763c4fb1",
   "metadata": {
    "id": "763c4fb1",
    "slideshow": {
     "slide_type": "fragment"
    }
   },
   "outputs": [
    {
     "data": {
      "text/plain": [
       "3"
      ]
     },
     "execution_count": 11,
     "metadata": {},
     "output_type": "execute_result"
    }
   ],
   "source": [
    "lista2 = [3, 6, 8, 11]\n",
    "max(lista2)\n",
    "min(lista2)"
   ]
  },
  {
   "cell_type": "code",
   "execution_count": null,
   "id": "70bbe3af",
   "metadata": {
    "id": "70bbe3af",
    "slideshow": {
     "slide_type": "fragment"
    }
   },
   "outputs": [],
   "source": []
  },
  {
   "cell_type": "markdown",
   "id": "6393d0db",
   "metadata": {
    "id": "6393d0db",
    "slideshow": {
     "slide_type": "subslide"
    }
   },
   "source": [
    "**pow()**  \n",
    "\n",
    "Recibe dos argumentos, eleva el primer argumento a la potencia del segundo."
   ]
  },
  {
   "cell_type": "code",
   "execution_count": 47,
   "id": "c26f66c7",
   "metadata": {
    "id": "c26f66c7",
    "slideshow": {
     "slide_type": "fragment"
    }
   },
   "outputs": [
    {
     "name": "stdout",
     "output_type": "stream",
     "text": [
      "Cubo 1: 8\n",
      "Cubo 2: 27\n"
     ]
    }
   ],
   "source": [
    "#vamos a hacer el cubo de 2\n",
    "cubo1 = pow(2, 3)\n",
    "#vamos a hacer el cubo de 3\n",
    "cubo2 = pow(3, 3)\n",
    "print(\"Cubo 1: \" + str(cubo1))\n",
    "print(\"Cubo 2: \" + str(cubo2))"
   ]
  },
  {
   "cell_type": "code",
   "execution_count": null,
   "id": "77112eaf",
   "metadata": {
    "id": "77112eaf",
    "slideshow": {
     "slide_type": "fragment"
    }
   },
   "outputs": [],
   "source": []
  },
  {
   "cell_type": "code",
   "execution_count": null,
   "id": "dfd71a0d",
   "metadata": {
    "id": "dfd71a0d",
    "slideshow": {
     "slide_type": "fragment"
    }
   },
   "outputs": [],
   "source": []
  },
  {
   "cell_type": "markdown",
   "id": "ff3bf71b",
   "metadata": {
    "id": "ff3bf71b",
    "slideshow": {
     "slide_type": "subslide"
    }
   },
   "source": [
    "**round()**  \n",
    "\n",
    "Puede recibir dos parámetros, el primero sería el número a redondear y el segundo las cifras decimales que queremos.\n",
    "Si no indicamos el segundo parámetro, por defecto redondea a la parte entera"
   ]
  },
  {
   "cell_type": "code",
   "execution_count": 51,
   "id": "9dbe7069",
   "metadata": {
    "id": "9dbe7069",
    "slideshow": {
     "slide_type": "fragment"
    }
   },
   "outputs": [
    {
     "name": "stdout",
     "output_type": "stream",
     "text": [
      "10\n",
      "9.99\n"
     ]
    }
   ],
   "source": [
    "a = 9.987\n",
    "print(round(a))\n",
    "#ahora vamos a redondear a 2 decimales\n",
    "RoundD = round(a, 2)\n",
    "print(RoundD)"
   ]
  },
  {
   "cell_type": "code",
   "execution_count": null,
   "id": "421a0c32",
   "metadata": {
    "id": "421a0c32",
    "slideshow": {
     "slide_type": "fragment"
    }
   },
   "outputs": [],
   "source": []
  },
  {
   "cell_type": "code",
   "execution_count": null,
   "id": "a84c9404",
   "metadata": {
    "id": "a84c9404",
    "slideshow": {
     "slide_type": "fragment"
    }
   },
   "outputs": [],
   "source": []
  },
  {
   "cell_type": "markdown",
   "id": "80136af4",
   "metadata": {
    "id": "80136af4",
    "slideshow": {
     "slide_type": "subslide"
    }
   },
   "source": [
    "**range(start, stop, step)**  \n",
    "\n",
    "Genera una secuencia de números **desde start hasta stop (sin incluirlo) aplicando el incremento indicado en step**.  \n",
    "Ejemplos:"
   ]
  },
  {
   "cell_type": "code",
   "execution_count": 20,
   "id": "ce2ce85d",
   "metadata": {
    "id": "ce2ce85d",
    "scrolled": true,
    "slideshow": {
     "slide_type": "fragment"
    }
   },
   "outputs": [
    {
     "name": "stdout",
     "output_type": "stream",
     "text": [
      "[0, 1, 2, 3, 4, 5, 6, 7, 8, 9]\n"
     ]
    }
   ],
   "source": [
    "print(list(range(0,10)))"
   ]
  },
  {
   "cell_type": "code",
   "execution_count": 8,
   "id": "abe8d309",
   "metadata": {
    "slideshow": {
     "slide_type": "fragment"
    }
   },
   "outputs": [
    {
     "name": "stdout",
     "output_type": "stream",
     "text": [
      "[10, 9, 8, 7, 6, 5, 4, 3, 2, 1, 0]\n"
     ]
    }
   ],
   "source": [
    "#hacemos una cuenta atrás. Empezamos en 10 y vamos hasta el valor anterior al 0\n",
    "print(list(range(10,-1,-1)))"
   ]
  },
  {
   "cell_type": "code",
   "execution_count": 12,
   "id": "72e34e47",
   "metadata": {
    "slideshow": {
     "slide_type": "fragment"
    }
   },
   "outputs": [
    {
     "name": "stdout",
     "output_type": "stream",
     "text": [
      "[10, 8, 6, 4, 2]\n"
     ]
    }
   ],
   "source": [
    "#ahora hacemos una cuenta atrás desde el 10 de 2 en dos. Fijate que el tercer parámetro(step) tiene valor negativo\n",
    "#para indicar que va decrementandose\n",
    "print(list(range(10,0,-2)))"
   ]
  },
  {
   "cell_type": "markdown",
   "id": "e813eccb",
   "metadata": {
    "id": "e813eccb",
    "slideshow": {
     "slide_type": "subslide"
    }
   },
   "source": [
    "**list()**  \n",
    "Este método transforma un iterable/rango a lista"
   ]
  },
  {
   "cell_type": "code",
   "execution_count": 48,
   "id": "0f76fef5",
   "metadata": {
    "id": "0f76fef5",
    "slideshow": {
     "slide_type": "fragment"
    }
   },
   "outputs": [
    {
     "name": "stdout",
     "output_type": "stream",
     "text": [
      "['h', 'o', 'l', 'a', ' ', 'm', 'u', 'n', 'd', 'o']\n"
     ]
    }
   ],
   "source": [
    "a = \"hola mundo\"\n",
    "b = list(a)\n",
    "print(b)"
   ]
  },
  {
   "cell_type": "code",
   "execution_count": null,
   "id": "28979b58",
   "metadata": {
    "id": "28979b58",
    "slideshow": {
     "slide_type": "fragment"
    }
   },
   "outputs": [],
   "source": []
  },
  {
   "cell_type": "code",
   "execution_count": null,
   "id": "f3a305d7",
   "metadata": {
    "id": "f3a305d7",
    "slideshow": {
     "slide_type": "fragment"
    }
   },
   "outputs": [],
   "source": []
  },
  {
   "cell_type": "code",
   "execution_count": null,
   "id": "ab6f34c5",
   "metadata": {
    "id": "ab6f34c5",
    "slideshow": {
     "slide_type": "fragment"
    }
   },
   "outputs": [],
   "source": []
  },
  {
   "cell_type": "code",
   "execution_count": null,
   "id": "ab4dfdb8",
   "metadata": {
    "id": "ab4dfdb8",
    "slideshow": {
     "slide_type": "fragment"
    }
   },
   "outputs": [],
   "source": []
  },
  {
   "cell_type": "markdown",
   "id": "5821c94c",
   "metadata": {
    "id": "5821c94c",
    "slideshow": {
     "slide_type": "slide"
    }
   },
   "source": [
    "---\n",
    "## 4. Libreria Random - Jugando con números aleatorios.\n",
    "\n",
    "Este módulo implementa generadores de números pseudoaleatorios para varias distribuciones.\n",
    "\n",
    "Puedes ver con detalle todos los métodos en:  \n",
    "https://docs.python.org/es/3/library/random.html?highlight=random#module-random\n",
    "\n",
    "Veamos algunos ejemplos de los métodos más usados..."
   ]
  },
  {
   "cell_type": "code",
   "execution_count": 49,
   "id": "b7627c99",
   "metadata": {
    "id": "b7627c99",
    "slideshow": {
     "slide_type": "fragment"
    }
   },
   "outputs": [],
   "source": [
    "import random as rd #importamos la libreria para poder hacer uso de sus métodos."
   ]
  },
  {
   "cell_type": "markdown",
   "id": "0d4de435",
   "metadata": {
    "id": "0d4de435",
    "slideshow": {
     "slide_type": "subslide"
    }
   },
   "source": [
    "---\n",
    "**randrange(start, stop, step)**\n",
    "\n",
    "Retorna un elemento de range(start, stop, step) seleccionado aleatoriamente."
   ]
  },
  {
   "cell_type": "code",
   "execution_count": 60,
   "id": "649b2805",
   "metadata": {
    "id": "649b2805",
    "slideshow": {
     "slide_type": "fragment"
    }
   },
   "outputs": [
    {
     "data": {
      "text/plain": [
       "4"
      ]
     },
     "execution_count": 60,
     "metadata": {},
     "output_type": "execute_result"
    }
   ],
   "source": [
    "rd.randrange(0,10,2)"
   ]
  },
  {
   "cell_type": "code",
   "execution_count": 50,
   "id": "6fb0f488",
   "metadata": {
    "id": "6fb0f488",
    "scrolled": true,
    "slideshow": {
     "slide_type": "fragment"
    }
   },
   "outputs": [
    {
     "data": {
      "text/plain": [
       "29"
      ]
     },
     "execution_count": 50,
     "metadata": {},
     "output_type": "execute_result"
    }
   ],
   "source": [
    "#como seria para generar pares aleatorios hasta el 100?\n",
    "num = rd.randrange(0,100)\n",
    "\n",
    "#ahora seleccionamos k elementos de la lista de pares.\n",
    "k = 29\n",
    "elementos_seleccionados = rd.sample(num, k)\n",
    "\n"
   ]
  },
  {
   "cell_type": "code",
   "execution_count": null,
   "id": "5513105a",
   "metadata": {},
   "outputs": [],
   "source": []
  },
  {
   "cell_type": "markdown",
   "id": "85688587",
   "metadata": {
    "id": "85688587",
    "slideshow": {
     "slide_type": "subslide"
    }
   },
   "source": [
    "---\n",
    "**randint(a, b)**  \n",
    "\n",
    "Retorna un **entero aleatorio N tal que a <= N <= b.** Alias de randrange(a, b+1)."
   ]
  },
  {
   "cell_type": "code",
   "execution_count": 70,
   "id": "35eaa343",
   "metadata": {
    "id": "35eaa343",
    "slideshow": {
     "slide_type": "fragment"
    }
   },
   "outputs": [
    {
     "data": {
      "text/plain": [
       "4"
      ]
     },
     "execution_count": 70,
     "metadata": {},
     "output_type": "execute_result"
    }
   ],
   "source": [
    "rd.randint(0,4)"
   ]
  },
  {
   "cell_type": "markdown",
   "id": "d90acc57",
   "metadata": {
    "id": "d90acc57",
    "slideshow": {
     "slide_type": "subslide"
    }
   },
   "source": [
    "---\n",
    "**choice(seq)**  \n",
    "\n",
    "Retorna un elemento aleatorio de una secuencia seq no vacía. Si seq está vacía, lanza un error"
   ]
  },
  {
   "cell_type": "code",
   "execution_count": null,
   "id": "5bb95412",
   "metadata": {
    "id": "5bb95412",
    "slideshow": {
     "slide_type": "fragment"
    }
   },
   "outputs": [],
   "source": [
    "lista = [1, 2, 3, 4, 5]\n",
    "\n",
    "aleatorio = rd.choice(lista)\n",
    "print(aleatorio)"
   ]
  },
  {
   "cell_type": "markdown",
   "id": "18e898d0",
   "metadata": {
    "id": "18e898d0",
    "slideshow": {
     "slide_type": "subslide"
    }
   },
   "source": [
    "---\n",
    "**shuffle(x)**  \n",
    "\n",
    "Mezcla la secuencia x in-situ."
   ]
  },
  {
   "cell_type": "code",
   "execution_count": null,
   "id": "78959912",
   "metadata": {
    "id": "78959912",
    "slideshow": {
     "slide_type": "fragment"
    }
   },
   "outputs": [],
   "source": [
    "lista = [1, 2, 3, 4, 5]\n",
    "\n",
    "print(\"Lista original:\", lista)\n",
    "\n",
    "rd.shuffle(lista)\n",
    "print(\"Lista después de mezclar:\", lista)"
   ]
  },
  {
   "cell_type": "code",
   "execution_count": null,
   "id": "4ca0b8a8",
   "metadata": {
    "id": "4ca0b8a8",
    "slideshow": {
     "slide_type": "fragment"
    }
   },
   "outputs": [],
   "source": []
  },
  {
   "cell_type": "markdown",
   "id": "08ac3a6f",
   "metadata": {
    "id": "08ac3a6f",
    "slideshow": {
     "slide_type": "subslide"
    }
   },
   "source": [
    "---\n",
    "**sample(population, k, *, counts=None)**  \n",
    "\n",
    "Retorna una lista de longitud k de elementos únicos elegidos de la secuencia de población o conjunto. \n"
   ]
  },
  {
   "cell_type": "code",
   "execution_count": null,
   "id": "a0cdfd18",
   "metadata": {
    "id": "a0cdfd18",
    "slideshow": {
     "slide_type": "fragment"
    }
   },
   "outputs": [],
   "source": [
    "colores = ['red', 'red', 'red', 'red', 'blue', 'blue']\n",
    "#quiero 5 elementos aleatorios de la lista de colores\n",
    "\n",
    "colorAleatorio = rd.sample(colores, k=5)\n",
    "print(\"Elementos aleatorios:\", colorAleatorio)"
   ]
  },
  {
   "cell_type": "markdown",
   "id": "2ee9a9b2",
   "metadata": {
    "id": "2ee9a9b2",
    "slideshow": {
     "slide_type": "subslide"
    }
   },
   "source": [
    "Los elementos repetidos pueden especificarse de uno en uno o con el parámetro opcional counts.  \n",
    "\n",
    "Por ejemplo: "
   ]
  },
  {
   "cell_type": "markdown",
   "id": "9f07ee20",
   "metadata": {
    "id": "9f07ee20",
    "slideshow": {
     "slide_type": "fragment"
    }
   },
   "source": [
    "Quiero 5 elementos aleatorios de la lista ['red', 'blue'] y tiene que haber 3 red y 2 blue"
   ]
  },
  {
   "cell_type": "code",
   "execution_count": null,
   "id": "711b3f1c",
   "metadata": {
    "id": "711b3f1c",
    "slideshow": {
     "slide_type": "fragment"
    }
   },
   "outputs": [],
   "source": [
    "colores = ['red', 'red', 'red', 'red', 'blue', 'blue']\n",
    "\n",
    "elementos_aleatorios = rd.sample(colores, k=5, counts=[3, 2])\n",
    "\n",
    "print(\"Elementos aleatorios:\", elementos_aleatorios)"
   ]
  },
  {
   "cell_type": "markdown",
   "id": "079ab404",
   "metadata": {
    "id": "079ab404",
    "slideshow": {
     "slide_type": "fragment"
    }
   },
   "source": [
    "Quiero 6 elementos aleatorios de la lista ['red', 'blue','green'] y tiene que haber 3 red y 2 blue 1 green"
   ]
  },
  {
   "cell_type": "code",
   "execution_count": null,
   "id": "664a9a35",
   "metadata": {
    "id": "664a9a35",
    "slideshow": {
     "slide_type": "fragment"
    }
   },
   "outputs": [],
   "source": [
    "colores = ['red', 'red', 'red', 'blue', 'blue', 'green']\n",
    "elementos_aleatorios = rd.sample(colores, k=6, counts=[3, 2, 1])\n",
    "\n",
    "print(\"Elementos aleatorios:\", elementos_aleatorios)"
   ]
  },
  {
   "cell_type": "code",
   "execution_count": 4,
   "id": "100c999e",
   "metadata": {
    "slideshow": {
     "slide_type": "fragment"
    }
   },
   "outputs": [],
   "source": [
    "#Utilizando la misma lista de colores, ¿como sería generar4 rojos, 1 azul y 3 verdes?\n",
    "colores = ['red', 'red', 'red', 'red', 'blue', 'green', 'green', 'green']\n",
    "\n",
    "# Quiero 8 elementos aleatorios, 4 deben ser 'red', 1 debe ser 'blue', 3 deben ser 'green'\n",
    "elementos_aleatorios = rd.sample(colores, k=8, counts=[4, 1, 3])\n",
    "\n",
    "print(\"Elementos aleatorios:\", elementos_aleatorios)"
   ]
  },
  {
   "cell_type": "markdown",
   "id": "a930d128",
   "metadata": {
    "id": "a930d128",
    "slideshow": {
     "slide_type": "subslide"
    }
   },
   "source": [
    "---\n",
    "**random()**  \n",
    "\n",
    "Retorna el siguiente número en coma flotante aleatorio dentro del rango [0.0, 1.0)."
   ]
  },
  {
   "cell_type": "code",
   "execution_count": null,
   "id": "794cad6d",
   "metadata": {
    "id": "794cad6d",
    "slideshow": {
     "slide_type": "fragment"
    }
   },
   "outputs": [],
   "source": [
    "rd.random()"
   ]
  },
  {
   "cell_type": "code",
   "execution_count": null,
   "id": "f451f22d",
   "metadata": {
    "id": "f451f22d",
    "slideshow": {
     "slide_type": "fragment"
    }
   },
   "outputs": [],
   "source": [
    "rd.random()"
   ]
  },
  {
   "cell_type": "markdown",
   "id": "1c631edd",
   "metadata": {
    "id": "1c631edd",
    "slideshow": {
     "slide_type": "slide"
    }
   },
   "source": [
    "## 5. Salida de datos - print()\n",
    "---"
   ]
  },
  {
   "cell_type": "markdown",
   "id": "3ae47a89",
   "metadata": {
    "id": "3ae47a89",
    "slideshow": {
     "slide_type": "fragment"
    }
   },
   "source": [
    "Cuando trabajamos en un entorno interactivo (consola de python o notebooks) para que python muestre el valor de una variable basta con escribir su nombre."
   ]
  },
  {
   "cell_type": "code",
   "execution_count": null,
   "id": "4b9428f9",
   "metadata": {
    "id": "4b9428f9",
    "slideshow": {
     "slide_type": "fragment"
    }
   },
   "outputs": [],
   "source": [
    "Texto = \"Prueba\"\n",
    "\n",
    "print(Texto)"
   ]
  },
  {
   "cell_type": "code",
   "execution_count": null,
   "id": "46385557",
   "metadata": {
    "id": "46385557",
    "slideshow": {
     "slide_type": "fragment"
    }
   },
   "outputs": [],
   "source": []
  },
  {
   "cell_type": "markdown",
   "id": "1e8fa844",
   "metadata": {
    "id": "1e8fa844",
    "slideshow": {
     "slide_type": "fragment"
    }
   },
   "source": [
    "Pero cuando estemos desarrollando programas, una de las acciones más repetidas e importantes es la posibilidad de presentar los resultados de nuestros programas en pantalla. Para realizar esta tarea en Python utilizamos la función **print().**"
   ]
  },
  {
   "cell_type": "markdown",
   "id": "43d8f089",
   "metadata": {
    "id": "43d8f089",
    "slideshow": {
     "slide_type": "subslide"
    }
   },
   "source": [
    "**Print()** puede imprimir en pantalla **varias expresiones separadas por comas o a través de las cadenas 'f'.**"
   ]
  },
  {
   "cell_type": "markdown",
   "id": "97e1b07a",
   "metadata": {
    "id": "97e1b07a",
    "slideshow": {
     "slide_type": "fragment"
    }
   },
   "source": [
    "**Print() --> Texto**\n",
    "\n",
    "Para imprimir texto en pantalla el texto que pongamos entre los parentesis, **debe ir con comillas**"
   ]
  },
  {
   "cell_type": "code",
   "execution_count": null,
   "id": "0b3c2c84",
   "metadata": {
    "id": "0b3c2c84",
    "slideshow": {
     "slide_type": "fragment"
    }
   },
   "outputs": [],
   "source": [
    "print(\"Prueba texto en pantalla\")"
   ]
  },
  {
   "cell_type": "markdown",
   "id": "2abe1d5c",
   "metadata": {
    "id": "2abe1d5c",
    "slideshow": {
     "slide_type": "fragment"
    }
   },
   "source": [
    "**Print() --> Números, Variables y Operaciones**\n",
    "\n",
    "**Cuando quieres mostrar números, variables y operaciones, el interior del parentesis va sin comillas:**"
   ]
  },
  {
   "cell_type": "code",
   "execution_count": null,
   "id": "0227de32",
   "metadata": {
    "id": "0227de32",
    "slideshow": {
     "slide_type": "fragment"
    }
   },
   "outputs": [],
   "source": [
    "num = 3\n",
    "\n",
    "print(num)"
   ]
  },
  {
   "cell_type": "code",
   "execution_count": null,
   "id": "1806b381",
   "metadata": {
    "id": "1806b381",
    "slideshow": {
     "slide_type": "fragment"
    }
   },
   "outputs": [],
   "source": []
  },
  {
   "cell_type": "code",
   "execution_count": null,
   "id": "62b49cd1",
   "metadata": {
    "id": "62b49cd1",
    "slideshow": {
     "slide_type": "fragment"
    }
   },
   "outputs": [],
   "source": []
  },
  {
   "cell_type": "markdown",
   "id": "af169a44",
   "metadata": {
    "id": "af169a44",
    "slideshow": {
     "slide_type": "subslide"
    }
   },
   "source": [
    "___\n",
    "La función print() permite incluir variables o expresiones como argumento, lo que permite combinar texto y variables, la forma de hacerlo es **separando texto y variables por coma.**\n",
    "\n",
    "Para combinar texto con operaciones, y variables, debes respetar la regla que te mencioné antes:  \n",
    "\n",
    "**El texto lleva comillas, los números, variables y operaciones no**\n",
    "___"
   ]
  },
  {
   "cell_type": "code",
   "execution_count": null,
   "id": "d693fe6e",
   "metadata": {
    "id": "d693fe6e",
    "slideshow": {
     "slide_type": "fragment"
    }
   },
   "outputs": [],
   "source": [
    "edad = 540\n",
    "nombre = \"\"\n",
    "print(\"Me llamo\",nombre,\"y tengo\",edad,\"años\")"
   ]
  },
  {
   "cell_type": "markdown",
   "id": "b63e5f3b",
   "metadata": {
    "id": "b63e5f3b",
    "slideshow": {
     "slide_type": "subslide"
    }
   },
   "source": [
    "### 5.1 format  \n",
    "---\n",
    "\n",
    "Existe otra forma de combinar texto, variables y expresiones en nuestras cadenas...usando la función format()\n",
    "\n"
   ]
  },
  {
   "cell_type": "code",
   "execution_count": null,
   "id": "bc32b045",
   "metadata": {
    "id": "bc32b045",
    "scrolled": true,
    "slideshow": {
     "slide_type": "fragment"
    }
   },
   "outputs": [],
   "source": [
    "nombre = \"Juan\"\n",
    "edad = 25\n",
    "altura = 1.75\n",
    "\n",
    "mensaje = \"Hola, mi nombre es {} y tengo {} años. Mi altura es {:.2f} metros.\".format(nombre, edad, altura)\n",
    "\n",
    "print(mensaje)"
   ]
  },
  {
   "cell_type": "markdown",
   "id": "48acac25",
   "metadata": {
    "id": "48acac25",
    "slideshow": {
     "slide_type": "subslide"
    }
   },
   "source": [
    "### 5.2 Cadenas \"f\"  \n",
    "---\n",
    "\n",
    "A partir de la versión 3.6 fr python, una nueva notación para cadenas llamada **cadenas \"f\"**, hace más sencillo introducir variables y expresiones en las cadenas.  \n",
    "Una cadena \"f\" contiene variables y expresiones entre llaves \"{}\" que se sustituyen directamente por su valor. Las cadenas \"f\" se reconocen porque **comienzan por una letra f antes de las comillas de apertura.**\n",
    "\n",
    "---\n",
    "**Veamos el ejemplo anterior con cadenas \"f\":**"
   ]
  },
  {
   "cell_type": "code",
   "execution_count": null,
   "id": "7dcacba7",
   "metadata": {
    "id": "7dcacba7",
    "slideshow": {
     "slide_type": "fragment"
    }
   },
   "outputs": [],
   "source": [
    "nombre = \"Juan\"\n",
    "edad = 25\n",
    "altura = 1.75\n",
    "\n",
    "# Usando f-strings para combinar texto y variables en una cadena\n",
    "mensaje = f\"Hola, mi nombre es {nombre} y tengo {edad} años. Mi altura es {altura:.2f} metros.\"\n",
    "\n",
    "print(mensaje)"
   ]
  },
  {
   "cell_type": "markdown",
   "id": "ff210407",
   "metadata": {
    "id": "ff210407",
    "slideshow": {
     "slide_type": "subslide"
    }
   },
   "source": [
    "💡 **¿Con qué opción te quedas?** 💡"
   ]
  },
  {
   "cell_type": "markdown",
   "id": "d45abe1c",
   "metadata": {
    "id": "d45abe1c",
    "slideshow": {
     "slide_type": "subslide"
    }
   },
   "source": [
    "### 5.3 Parámetros de la función print()  \n",
    "---\n",
    "La función print tiene dos parámetros interesantes que son **sep y end**. Ambos deben ser de tipo carácter y sirven respectivamente para separar las cadenas y terminar las líneas.  \n",
    "\n",
    "Vamos a ver algunos ejemplos"
   ]
  },
  {
   "cell_type": "code",
   "execution_count": null,
   "id": "1628aa30",
   "metadata": {
    "id": "1628aa30",
    "scrolled": true,
    "slideshow": {
     "slide_type": "fragment"
    }
   },
   "outputs": [],
   "source": [
    "print(\"Hola\")\n",
    "print(\"Gandalf\")"
   ]
  },
  {
   "cell_type": "code",
   "execution_count": null,
   "id": "d0784ae9",
   "metadata": {
    "id": "d0784ae9",
    "slideshow": {
     "slide_type": "fragment"
    }
   },
   "outputs": [],
   "source": [
    "print(\"Hola\", end=\"\")\n",
    "print(\"Gandalf\")"
   ]
  },
  {
   "cell_type": "code",
   "execution_count": null,
   "id": "6ace6b9e",
   "metadata": {
    "id": "6ace6b9e",
    "slideshow": {
     "slide_type": "fragment"
    }
   },
   "outputs": [],
   "source": [
    "print(\"Hola.\", end=\" \")\n",
    "print(\"Gandalf\")"
   ]
  },
  {
   "cell_type": "code",
   "execution_count": null,
   "id": "920052fd",
   "metadata": {
    "id": "920052fd",
    "slideshow": {
     "slide_type": "fragment"
    }
   },
   "outputs": [],
   "source": [
    "texto = \" gran \"\n",
    "print(\"Hola\", end=f\"{texto}\")\n",
    "print(\"Gandalf\")"
   ]
  },
  {
   "cell_type": "code",
   "execution_count": null,
   "id": "7ecc1d75",
   "metadata": {
    "id": "7ecc1d75",
    "slideshow": {
     "slide_type": "fragment"
    }
   },
   "outputs": [],
   "source": [
    "a = \"mundo\"\n",
    "print(\"Hola\", a, \"!\", sep=\"-\")"
   ]
  },
  {
   "cell_type": "markdown",
   "id": "985901f1",
   "metadata": {
    "id": "985901f1",
    "slideshow": {
     "slide_type": "slide"
    }
   },
   "source": [
    "## 6. Entrada de datos - input()\n",
    "---\n",
    "Otra acción imprescindible a realizar en los programas es la de introducir información para poder procesarla.\n",
    "La función input se usa para dos cosas:\n",
    "* Hacer pausas en nuestro programa.\n",
    "* Permitir que el usuario introduzca información."
   ]
  },
  {
   "cell_type": "markdown",
   "id": "753728da",
   "metadata": {
    "id": "753728da",
    "slideshow": {
     "slide_type": "subslide"
    }
   },
   "source": [
    "Input usado como pausa"
   ]
  },
  {
   "cell_type": "code",
   "execution_count": 2,
   "id": "c5694fa8",
   "metadata": {
    "id": "c5694fa8",
    "slideshow": {
     "slide_type": "fragment"
    }
   },
   "outputs": [],
   "source": [
    "#input usado como pausa:\n",
    "input(\"Presiona Enter para salir.\")\n"
   ]
  },
  {
   "cell_type": "markdown",
   "id": "a770845e",
   "metadata": {
    "id": "a770845e",
    "slideshow": {
     "slide_type": "subslide"
    }
   },
   "source": [
    "Input usado para pedir datos al usuario:"
   ]
  },
  {
   "cell_type": "code",
   "execution_count": null,
   "id": "54d367e7",
   "metadata": {
    "id": "54d367e7",
    "slideshow": {
     "slide_type": "fragment"
    }
   },
   "outputs": [],
   "source": [
    "nombre = input(\"Por favor, introduce tu nombre: \")\n",
    "print(\"Hola, \" + nombre + \"!\")"
   ]
  },
  {
   "cell_type": "markdown",
   "id": "83e340e1",
   "metadata": {
    "id": "83e340e1",
    "slideshow": {
     "slide_type": "subslide"
    }
   },
   "source": [
    "La función int(numero) se usa cuando queremos que el usuario introduzca enteros"
   ]
  },
  {
   "cell_type": "code",
   "execution_count": null,
   "id": "1152ae97",
   "metadata": {
    "id": "1152ae97",
    "scrolled": true,
    "slideshow": {
     "slide_type": "fragment"
    }
   },
   "outputs": [],
   "source": [
    "numero_str = int(input(\"Por favor, introduce un número entero: \"))\n",
    "print(\"El número que ingresaste es:\", numero_str)"
   ]
  },
  {
   "cell_type": "markdown",
   "id": "132e1d5b",
   "metadata": {
    "id": "132e1d5b",
    "slideshow": {
     "slide_type": "subslide"
    }
   },
   "source": [
    "La función float(decimal) se usa para que el usuario introduzca números decimales."
   ]
  },
  {
   "cell_type": "code",
   "execution_count": null,
   "id": "f7752273",
   "metadata": {
    "id": "f7752273",
    "slideshow": {
     "slide_type": "fragment"
    }
   },
   "outputs": [],
   "source": [
    "cadena_decimal = float(input(\"Ingrese un número decimal: \"))\n",
    "\n",
    "print(\"El número ingresado es:\", cadena_decimal)"
   ]
  },
  {
   "cell_type": "markdown",
   "id": "00079c1a",
   "metadata": {
    "id": "00079c1a",
    "slideshow": {
     "slide_type": "slide"
    }
   },
   "source": [
    "## 7. Ejercicios\n",
    "---"
   ]
  },
  {
   "cell_type": "markdown",
   "id": "725df4bc",
   "metadata": {
    "id": "725df4bc",
    "slideshow": {
     "slide_type": "subslide"
    }
   },
   "source": [
    "**1- Escribe un programa que pida al usuario 3 números y muestre en pantalla la media de los 3 con el siguiente formato:**\n",
    "\n",
    "La media de n1=1, n2=3 y n3=4 es: 2.67"
   ]
  },
  {
   "cell_type": "code",
   "execution_count": 1,
   "id": "9a6d55ba",
   "metadata": {
    "id": "9a6d55ba",
    "slideshow": {
     "slide_type": "fragment"
    }
   },
   "outputs": [
    {
     "name": "stdout",
     "output_type": "stream",
     "text": [
      "La media de n1=3.0, n2=5.0 y n3=8.0 es: 5.33\n"
     ]
    }
   ],
   "source": [
    "n1 = float(input(\"Ingrese el primer número: \"))\n",
    "n2 = float(input(\"Ingrese el segundo número: \"))\n",
    "n3 = float(input(\"Ingrese el tercer número: \"))\n",
    "\n",
    "media = (n1 + n2 + n3) / 3\n",
    "\n",
    "print(f\"La media de n1={n1}, n2={n2} y n3={n3} es: {media:.2f}\")"
   ]
  },
  {
   "cell_type": "markdown",
   "id": "91cd582e",
   "metadata": {
    "id": "91cd582e",
    "slideshow": {
     "slide_type": "subslide"
    }
   },
   "source": [
    "**2- Escribe un programa que pida el ancho y largo de un rectangulo y escriba en pantalla su área y perímetro. \n",
    "El resultado deberá aparecer con el siguiente formato:**\n",
    "\n",
    "** Se va a proceder a calcular el area de un rectángulo **\n",
    "\n",
    "Introduce el ancho  \n",
    "Introduce el alto  \n",
    "El área del rectangulo es: x  \n",
    "El perímetro del rectangulo es: x"
   ]
  },
  {
   "cell_type": "code",
   "execution_count": null,
   "id": "8511bbf4",
   "metadata": {
    "id": "8511bbf4",
    "slideshow": {
     "slide_type": "fragment"
    }
   },
   "outputs": [],
   "source": [
    "print(\"** Se va a proceder a calcular el área y perímetro de un rectángulo **\")\n",
    "ancho = float(input(\"Introduce el ancho: \"))\n",
    "largo = float(input(\"Introduce el largo: \"))\n",
    "\n",
    "area = ancho * largo\n",
    "perimetro = 2 * (ancho + largo)\n",
    "\n",
    "print(\"El área del rectángulo es:\", area)\n",
    "print(\"El perímetro del rectángulo es:\", perimetro)\n"
   ]
  },
  {
   "cell_type": "markdown",
   "id": "bfd11b54",
   "metadata": {
    "id": "bfd11b54",
    "slideshow": {
     "slide_type": "subslide"
    }
   },
   "source": [
    "**3- Muestra en pantalla una lista de números comprendidos entre el 33 y el 88 (incluido)**\n",
    "\n",
    "* Desordena la lista de números y muestrala en pantalla.\n",
    "* Muestra en una línea el máximo y en otra el mínimo\n"
   ]
  },
  {
   "cell_type": "code",
   "execution_count": 2,
   "id": "8a23bc29",
   "metadata": {
    "id": "8a23bc29",
    "slideshow": {
     "slide_type": "fragment"
    }
   },
   "outputs": [
    {
     "name": "stdout",
     "output_type": "stream",
     "text": [
      "Lista desordenada: [51, 84, 81, 73, 56, 49, 70, 53, 55, 41, 62, 63, 79, 37, 71, 36, 80, 33, 40, 65, 75, 38, 88, 67, 42, 48, 45, 66, 46, 82, 35, 52, 60, 76, 47, 86, 39, 64, 59, 57, 50, 44, 69, 77, 74, 85, 83, 78, 87, 58, 72, 54, 34, 68, 43, 61]\n",
      "Máximo: 88\n",
      "Mínimo: 33\n"
     ]
    }
   ],
   "source": [
    "import random\n",
    "\n",
    "numeros = list(range(33, 89))\n",
    "\n",
    "random.shuffle(numeros)\n",
    "\n",
    "print(\"Lista desordenada:\", numeros)\n",
    "\n",
    "maximo = max(numeros)\n",
    "minimo = min(numeros)\n",
    "\n",
    "print(\"Máximo:\", maximo)\n",
    "print(\"Mínimo:\", minimo)"
   ]
  },
  {
   "cell_type": "markdown",
   "id": "ee9a33e7",
   "metadata": {
    "id": "ee9a33e7",
    "slideshow": {
     "slide_type": "subslide"
    }
   },
   "source": [
    "**4- Realiza los siguientes cálculos**\n",
    "* Calcula el sumatorio de los números pares comprendidos entre el 55 y el 88.\n",
    "\n",
    "* Calcula el sumatorio de todos los números impares comprendidos entre 1-100"
   ]
  },
  {
   "cell_type": "code",
   "execution_count": null,
   "id": "001a89c4",
   "metadata": {
    "id": "001a89c4",
    "slideshow": {
     "slide_type": "fragment"
    }
   },
   "outputs": [],
   "source": [
    "sumatorio_pares = sum(x for x in range(55, 89) if x % 2 == 0)\n",
    "print(f\"Sumatorio de números pares entre 55 y 88: {sumatorio_pares}\")\n",
    "\n",
    "sumatorio_impares = sum(x for x in range(1, 101) if x % 2 != 0)\n",
    "print(f\"Sumatorio de números impares entre 1 y 100: {sumatorio_impares}\")"
   ]
  },
  {
   "cell_type": "markdown",
   "id": "6fd667da",
   "metadata": {
    "id": "6fd667da",
    "slideshow": {
     "slide_type": "subslide"
    }
   },
   "source": [
    "**5- Calcula el número de caracteres que tiene el siguiente texto:**\n",
    "\n",
    "\"En un lugar de la Mancha, de cuyo nombre no quiero acordarme, no ha mucho tiempo que vivía un hidalgo de los de lanza en astillero, adarga antigua, rocín flaco y galgo corredor\""
   ]
  },
  {
   "cell_type": "code",
   "execution_count": null,
   "id": "42e6f356",
   "metadata": {
    "id": "42e6f356",
    "slideshow": {
     "slide_type": "fragment"
    }
   },
   "outputs": [],
   "source": [
    "texto = \"En un lugar de la Mancha, de cuyo nombre no quiero acordarme, no ha mucho tiempo que vivía un hidalgo de los de lanza en astillero, adarga antigua, rocín flaco y galgo corredor\"\n",
    "\n",
    "numero_caracteres = len(texto)\n",
    "\n",
    "print(f\"El número de caracteres en el texto es: {numero_caracteres}\")"
   ]
  },
  {
   "cell_type": "markdown",
   "id": "c1a101e6",
   "metadata": {
    "id": "c1a101e6",
    "slideshow": {
     "slide_type": "subslide"
    }
   },
   "source": [
    "**6- Extraer una muestra tres números entre el 1 y el 20, ambos incluidos.**"
   ]
  },
  {
   "cell_type": "code",
   "execution_count": null,
   "id": "58a1298c",
   "metadata": {
    "id": "58a1298c",
    "slideshow": {
     "slide_type": "fragment"
    }
   },
   "outputs": [],
   "source": [
    "import random\n",
    "\n",
    "muestra = random.sample(range(1, 21), 3)\n",
    "\n",
    "print(\"Muestra de tres números:\", muestra)"
   ]
  },
  {
   "cell_type": "markdown",
   "id": "aa4983d8",
   "metadata": {
    "id": "aa4983d8",
    "slideshow": {
     "slide_type": "subslide"
    }
   },
   "source": [
    "**7- Genera una lista de 20 números enteros aleatorios entre 0-100(ambos incluidos) donde:**\n",
    "* **El mayor valor seleccionado se repita 10 veces**\n",
    "* **El segundo mayor 5**\n",
    "* **El tercer mayor 3 veces**\n",
    "* **El resto 1.**\n",
    "\n",
    "**Muestra la lista por pantalla**"
   ]
  },
  {
   "cell_type": "code",
   "execution_count": null,
   "id": "055d7584",
   "metadata": {
    "id": "055d7584",
    "scrolled": true,
    "slideshow": {
     "slide_type": "fragment"
    }
   },
   "outputs": [],
   "source": [
    "import random\n",
    "\n",
    "lista = [max(random.randint(0, 100), 1) for _ in range(10)]\n",
    "lista.extend([max(random.randint(0, 100), 1) for _ in range(5)])\n",
    "lista.extend([max(random.randint(0, 100), 1) for _ in range(3)])\n",
    "lista.extend([random.randint(0, 100) for _ in range(2)])"
   ]
  },
  {
   "cell_type": "code",
   "execution_count": null,
   "id": "29486bb1",
   "metadata": {
    "id": "29486bb1",
    "slideshow": {
     "slide_type": "fragment"
    }
   },
   "outputs": [],
   "source": [
    "random.shuffle(lista)"
   ]
  },
  {
   "cell_type": "code",
   "execution_count": null,
   "id": "14456b08",
   "metadata": {
    "id": "14456b08",
    "slideshow": {
     "slide_type": "fragment"
    }
   },
   "outputs": [],
   "source": [
    "print(\"Lista generada:\", lista)"
   ]
  }
 ],
 "metadata": {
  "celltoolbar": "Slideshow",
  "colab": {
   "provenance": []
  },
  "kernelspec": {
   "display_name": "Python 3 (ipykernel)",
   "language": "python",
   "name": "python3"
  },
  "language_info": {
   "codemirror_mode": {
    "name": "ipython",
    "version": 3
   },
   "file_extension": ".py",
   "mimetype": "text/x-python",
   "name": "python",
   "nbconvert_exporter": "python",
   "pygments_lexer": "ipython3",
   "version": "3.12.1"
  },
  "rise": {
   "scroll": true,
   "start_slideshow_at": "beginning"
  }
 },
 "nbformat": 4,
 "nbformat_minor": 5
}
