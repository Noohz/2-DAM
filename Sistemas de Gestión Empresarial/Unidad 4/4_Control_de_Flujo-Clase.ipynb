{
 "cells": [
  {
   "cell_type": "markdown",
   "metadata": {
    "id": "MwdPS9FccWwP",
    "slideshow": {
     "slide_type": "slide"
    }
   },
   "source": [
    "---\n",
    "## 1. Control de Flujo.\n",
    "\n",
    "Veremos la toma de decisiones con el uso de condicionales if(si), los bucles while(mientras) y for (para)"
   ]
  },
  {
   "cell_type": "markdown",
   "metadata": {
    "id": "smlmCyUnKfOo",
    "slideshow": {
     "slide_type": "slide"
    }
   },
   "source": [
    "---\n",
    "### 1.1 Condiciones if\n",
    "\n",
    "**if condicion:**\n",
    "\n",
    "      sentencias\n",
    "\n",
    "**elif condicion: #opcional**\n",
    "\n",
    "      sentencias\n",
    "\n",
    "**else:           #opcional**\n",
    "\n",
    "      sentencias\n",
    "\n",
    "\n",
    "\n",
    "Vamos a ver un ejemplo:"
   ]
  },
  {
   "cell_type": "code",
   "execution_count": 3,
   "metadata": {
    "slideshow": {
     "slide_type": "fragment"
    }
   },
   "outputs": [
    {
     "name": "stdout",
     "output_type": "stream",
     "text": [
      "El valor 5 es positivo\n"
     ]
    }
   ],
   "source": [
    "x = 5\n",
    "\n",
    "#Completa el código para obtener la salida que se indica más abajo\n",
    "if x > 0:\n",
    "    print('El valor', x, 'es positivo')"
   ]
  },
  {
   "cell_type": "code",
   "execution_count": 5,
   "metadata": {
    "slideshow": {
     "slide_type": "fragment"
    }
   },
   "outputs": [
    {
     "name": "stdout",
     "output_type": "stream",
     "text": [
      "El valor -5 es negativo\n"
     ]
    }
   ],
   "source": [
    "x = -5\n",
    "\n",
    "#Completa el código para obtener la salida que se indica más abajo\n",
    "if x > 0:\n",
    "    print('El valor ', x, ' positivo')\n",
    "else:\n",
    "    print(\"El valor\", x, \"es negativo\")"
   ]
  },
  {
   "cell_type": "code",
   "execution_count": 6,
   "metadata": {
    "slideshow": {
     "slide_type": "fragment"
    }
   },
   "outputs": [
    {
     "name": "stdout",
     "output_type": "stream",
     "text": [
      "El valor  7  es impar\n"
     ]
    }
   ],
   "source": [
    "x=7\n",
    "\n",
    "#Completa el código para obtener la salida que se indica más abajo\n",
    "if x % 2 == 0:\n",
    "    print('El valor ', x, ' es par')\n",
    "else:\n",
    "    print('El valor ', x , ' es impar')"
   ]
  },
  {
   "cell_type": "code",
   "execution_count": 7,
   "metadata": {
    "colab": {
     "base_uri": "https://localhost:8080/"
    },
    "executionInfo": {
     "elapsed": 4481,
     "status": "ok",
     "timestamp": 1647370760349,
     "user": {
      "displayName": "saul lazaro hermoso",
      "photoUrl": "https://lh3.googleusercontent.com/a/default-user=s64",
      "userId": "04175648419340952264"
     },
     "user_tz": -60
    },
    "id": "Wrtz_ppg3ylb",
    "outputId": "a3b34ba5-4d4a-459b-fea0-8b0c36eceee8",
    "slideshow": {
     "slide_type": "fragment"
    }
   },
   "outputs": [
    {
     "name": "stdout",
     "output_type": "stream",
     "text": [
      "El número es positivo\n"
     ]
    }
   ],
   "source": [
    "#qué ocurre si no le ponemos el int?\n",
    "N = int(input(\"Introduce un Número: \"))\n",
    "if (N>0):\n",
    "    print(\"El número es positivo\")\n",
    "else:\n",
    "    print(\"El número es negativo\")\n"
   ]
  },
  {
   "cell_type": "markdown",
   "metadata": {
    "id": "xOPiTFRuUKMy",
    "slideshow": {
     "slide_type": "slide"
    }
   },
   "source": [
    "#### Otro ejemplo:"
   ]
  },
  {
   "cell_type": "code",
   "execution_count": 8,
   "metadata": {
    "colab": {
     "base_uri": "https://localhost:8080/"
    },
    "executionInfo": {
     "elapsed": 26296,
     "status": "ok",
     "timestamp": 1647370877988,
     "user": {
      "displayName": "saul lazaro hermoso",
      "photoUrl": "https://lh3.googleusercontent.com/a/default-user=s64",
      "userId": "04175648419340952264"
     },
     "user_tz": -60
    },
    "id": "QXGH44BoT7QH",
    "outputId": "9653bc06-dd04-4aca-b5bb-0df52616cd8f",
    "slideshow": {
     "slide_type": "fragment"
    }
   },
   "outputs": [
    {
     "name": "stdout",
     "output_type": "stream",
     "text": [
      "El número es mayor de 0 y menor de 10\n"
     ]
    }
   ],
   "source": [
    "N = int(input(\"Introduce un Número: \"))\n",
    "#Completa el código para obtener la salida que se indica más abajo\n",
    "if N < 0:\n",
    "    print(\"El número es negativo\")\n",
    "elif N > 0 & N < 10:\n",
    "    print(\"El número es mayor de 0 y menor de 10\")\n",
    "elif N > 10 & N < 50:\n",
    "    print(\"El número es mayor de 10 y menor de 50\")\n",
    "else:\n",
    "    print(\"El número es mayor de 50\")"
   ]
  },
  {
   "cell_type": "markdown",
   "metadata": {
    "slideshow": {
     "slide_type": "slide"
    }
   },
   "source": [
    "---\n",
    "### Ejercicios"
   ]
  },
  {
   "cell_type": "markdown",
   "metadata": {
    "id": "VolwU0kDpOPr",
    "slideshow": {
     "slide_type": "slide"
    }
   },
   "source": [
    "---\n",
    "**Ejercicio 1**\n",
    "\n",
    "Escribir un programa que pregunte al usuario su edad y muestre por pantalla si es mayor de edad o no.\n",
    "\n",
    "**Solución:**"
   ]
  },
  {
   "cell_type": "code",
   "execution_count": 10,
   "metadata": {
    "id": "JMm-3Vj3Ke-i",
    "slideshow": {
     "slide_type": "fragment"
    }
   },
   "outputs": [
    {
     "name": "stdout",
     "output_type": "stream",
     "text": [
      "Eres mayor de edad.\n"
     ]
    }
   ],
   "source": [
    "Edad = int(input(\"Introduce tu edad.\"))\n",
    "\n",
    "if Edad >= 18:\n",
    "    print(\"Eres mayor de edad.\")\n",
    "else :\n",
    "    print(\"Eres menor de edad.\")"
   ]
  },
  {
   "cell_type": "markdown",
   "metadata": {
    "id": "xGtDu-1Ac7xm",
    "slideshow": {
     "slide_type": "slide"
    }
   },
   "source": [
    "---\n",
    "**Ejercicio 2.**\n",
    "\n",
    "Desarrolla un programa que pida 3 números y nos diga cual de los 3 es el mayor.  \n",
    "\n",
    "**Solución:**"
   ]
  },
  {
   "cell_type": "code",
   "execution_count": 11,
   "metadata": {
    "id": "uByzKoGSdV5L",
    "slideshow": {
     "slide_type": "fragment"
    }
   },
   "outputs": [
    {
     "name": "stdout",
     "output_type": "stream",
     "text": [
      "El número 7 es el mayor\n"
     ]
    }
   ],
   "source": [
    "Num1 = int(input(\"Introduce el primer número:\"))\n",
    "Num2 = int (input(\"Introduce el segundo número:\"))\n",
    "Num3 = int (input(\"Introduce el tercer número:\"))\n",
    "\n",
    "if Num1 > Num2 & Num1 > Num3:\n",
    "    print(\"El número\", Num1, \"es el mayor\")\n",
    "elif Num2 > Num1 & Num2 > Num3:\n",
    "    print(\"El número\", Num2, \"es el mayor\")\n",
    "elif Num3 > Num1 & Num3 > Num2:\n",
    "    print(\"El número\", Num3, \"es el mayor\")\n",
    "else:\n",
    "    print(\"Has introducido un parámetro no válido\")"
   ]
  },
  {
   "cell_type": "markdown",
   "metadata": {
    "id": "nv-oRxotdWlr",
    "slideshow": {
     "slide_type": "slide"
    }
   },
   "source": [
    "---\n",
    "#### Ejercicio 3\n",
    "\n",
    "tomar como referencia los siguientes tramos impositivos en la campaña de la renta:\n",
    "\n",
    "|         Renta          | Tipo impositivo |\n",
    "| :--------------------: | :-------------: |\n",
    "|    Menos de 10000€     |       5%        |\n",
    "| Entre 10000€ y 20000€  |       15%       |\n",
    "| Entre 20000€ y 35000€ |       20%       |\n",
    "| Entre 35000€ y 60000€ |       30%       |\n",
    "|     Más de 60000€      |       45%       |\n",
    "\n",
    "Escribir un programa que pregunte al usuario su renta anual y muestre por pantalla el tipo impositivo que le corresponde.\n",
    "\n",
    "#### Solución"
   ]
  },
  {
   "cell_type": "code",
   "execution_count": 12,
   "metadata": {
    "id": "NIBalkSeg72M",
    "slideshow": {
     "slide_type": "fragment"
    }
   },
   "outputs": [
    {
     "name": "stdout",
     "output_type": "stream",
     "text": [
      "Te corresponde un tipo impositivo de un 15%.\n"
     ]
    }
   ],
   "source": [
    "RentaAnual = int(input(\"Introduce tu renta anual.\"))\n",
    "\n",
    "if RentaAnual < 10000:\n",
    "    print(\"Te corresponde un tipo impositivo de un 5%.\")\n",
    "elif RentaAnual >= 10000 & RentaAnual <= 20000:\n",
    "    print(\"Te corresponde un tipo impositivo de un 15%.\")\n",
    "elif RentaAnual >= 20000 & RentaAnual <= 35000:\n",
    "    print(\"Te corresponde un tipo impositivo de un 20%.\")\n",
    "elif RentaAnual >= 35000 & RentaAnual <= 60000:\n",
    "    print(\"Te corresponde un tipo impositivo de un 30%.\")\n",
    "elif RentaAnual > 60000:\n",
    "    print(\"Te corresponde un tipo impositivo de un 45%.\")\n",
    "else:\n",
    "    print(\"Has introducido un valor no aceptado.\")"
   ]
  },
  {
   "cell_type": "markdown",
   "metadata": {
    "id": "oxCQHqDQqJH2",
    "slideshow": {
     "slide_type": "slide"
    }
   },
   "source": [
    "---\n",
    "**Ejercicio 4**\n",
    "\n",
    "Los alumnos de un curso se han dividido en dos grupos A y B de acuerdo al sexo y el nombre. El grupo A esta formado por las mujeres con un nombre anterior a la M o los hombres con un nombre posterior a la N y el grupo B por el resto. \n",
    "\n",
    "Escribir un programa que pregunte al usuario su nombre y sexo, y muestre por pantalla el grupo que le corresponde.\n",
    "\n",
    "**Solución:**"
   ]
  },
  {
   "cell_type": "code",
   "execution_count": 20,
   "metadata": {
    "slideshow": {
     "slide_type": "fragment"
    }
   },
   "outputs": [
    {
     "name": "stdout",
     "output_type": "stream",
     "text": [
      "Perteneces al grupo B.\n"
     ]
    }
   ],
   "source": [
    "Nombre = input(\"Introduce tu nombre.\")\n",
    "Sexo = input(\"Introduce tu sexo. (Mujer / Hombre)\")\n",
    "\n",
    "Nombre = Nombre.upper()\n",
    "Sexo = Sexo.upper()\n",
    "\n",
    "if (Nombre < 'M' and Sexo == \"MUJER\") or (Nombre > 'N' and Sexo == \"HOMBRE\"):\n",
    "    print(\"Perteneces al grupo A.\")\n",
    "else:\n",
    "    print(\"Perteneces al grupo B.\")"
   ]
  },
  {
   "cell_type": "code",
   "execution_count": 15,
   "metadata": {
    "slideshow": {
     "slide_type": "fragment"
    }
   },
   "outputs": [
    {
     "name": "stdout",
     "output_type": "stream",
     "text": [
      "Usted pertenece al Grupo A.\n"
     ]
    }
   ],
   "source": [
    "\n"
   ]
  },
  {
   "cell_type": "markdown",
   "metadata": {
    "id": "rWamANfqr5Uf",
    "slideshow": {
     "slide_type": "slide"
    }
   },
   "source": [
    "---\n",
    "**Ejercicio 5**\n",
    "\n",
    "Escribir un programa para una empresa que tiene salas de juegos para todas las edades y quiere calcular de forma automática el precio que debe cobrar a sus clientes por entrar. \n",
    "El programa debe preguntar al usuario la edad del cliente y mostrar el precio de la entrada. \n",
    "* Si el cliente es menor de 4 años puede entrar gratis.\n",
    "* Si tiene entre 4 y 18 años debe pagar 5€.\n",
    "* Si es mayor de 18 años, 10€.\n",
    "\n",
    "**Solución:**"
   ]
  },
  {
   "cell_type": "code",
   "execution_count": 5,
   "metadata": {
    "id": "Bkp6bx5lsKnW",
    "slideshow": {
     "slide_type": "fragment"
    }
   },
   "outputs": [
    {
     "name": "stdout",
     "output_type": "stream",
     "text": [
      "Tu entrada tiene un precio de 10€.\n"
     ]
    }
   ],
   "source": [
    "Edad = int(input(\"Introduce tu edad:\"))\n",
    "\n",
    "if Edad < 4:\n",
    "    print(\"Puedes entrar grátis.\")\n",
    "elif Edad >= 4 and Edad <= 18:\n",
    "    print(\"Tu entrada tiene un precio de 5€.\")\n",
    "else:\n",
    "    print(\"Tu entrada tiene un precio de 10€.\")\n",
    "    "
   ]
  },
  {
   "cell_type": "markdown",
   "metadata": {
    "id": "n4_O6-cab8JY",
    "slideshow": {
     "slide_type": "slide"
    }
   },
   "source": [
    "---\n",
    "###  1.2 Bucle While(mientras)\n",
    "\n",
    "¿Como lo usamos?\n",
    "\n",
    "**1- inicializamos la variable de la condición**\n",
    "\n",
    "**2- while condicion:**\n",
    "\n",
    "      3- sentencias\n",
    "\n",
    "      4- modificamos la variable de la condición\n",
    "\n",
    "Ejemplo de uso:  "
   ]
  },
  {
   "cell_type": "code",
   "execution_count": 58,
   "metadata": {
    "colab": {
     "base_uri": "https://localhost:8080/"
    },
    "executionInfo": {
     "elapsed": 243,
     "status": "ok",
     "timestamp": 1648229534634,
     "user": {
      "displayName": "saul lazaro hermoso",
      "photoUrl": "https://lh3.googleusercontent.com/a/default-user=s64",
      "userId": "04175648419340952264"
     },
     "user_tz": -60
    },
    "id": "bfsnD1WQr4bW",
    "outputId": "25d8048b-d8c7-4e78-e3fd-6a89831d020d",
    "slideshow": {
     "slide_type": "fragment"
    }
   },
   "outputs": [
    {
     "name": "stdout",
     "output_type": "stream",
     "text": [
      "0\n",
      "1\n",
      "2\n",
      "3\n",
      "4\n",
      "5\n",
      "6\n",
      "7\n",
      "8\n",
      "9\n",
      "10\n"
     ]
    }
   ],
   "source": [
    "var = 0 # variable de la condición del bucle\n",
    "\n",
    "#Completa el código para obtener la salida que se indica más abajo\n",
    "while var <= 10:\n",
    "    print(var)#sentencias\n",
    "    var +=1 #modificamos la variable de la condición del bucle para forzar que se pare."
   ]
  },
  {
   "cell_type": "markdown",
   "metadata": {
    "id": "U2fmWM9JIzma",
    "slideshow": {
     "slide_type": "slide"
    }
   },
   "source": [
    "Vamos a ver otro caso:"
   ]
  },
  {
   "cell_type": "code",
   "execution_count": 2,
   "metadata": {
    "colab": {
     "base_uri": "https://localhost:8080/"
    },
    "executionInfo": {
     "elapsed": 272,
     "status": "ok",
     "timestamp": 1648229739356,
     "user": {
      "displayName": "saul lazaro hermoso",
      "photoUrl": "https://lh3.googleusercontent.com/a/default-user=s64",
      "userId": "04175648419340952264"
     },
     "user_tz": -60
    },
    "id": "KjqGTRb9jeIZ",
    "outputId": "4e602d10-937f-4705-c79b-1afe623d3415",
    "slideshow": {
     "slide_type": "fragment"
    }
   },
   "outputs": [
    {
     "name": "stdout",
     "output_type": "stream",
     "text": [
      "Hola\n"
     ]
    }
   ],
   "source": [
    "#Completa el código para obtener la salida que se indica más abajo\n",
    "Ejemplo = True\n",
    "\n",
    "while Ejemplo:\n",
    "    print(\"Hola\")\n",
    "    Ejemplo = False\n",
    "  "
   ]
  },
  {
   "cell_type": "code",
   "execution_count": 4,
   "metadata": {
    "id": "TTgxPLTlsRIV",
    "slideshow": {
     "slide_type": "fragment"
    }
   },
   "outputs": [
    {
     "name": "stdout",
     "output_type": "stream",
     "text": [
      "El valor buscado NO es:  0\n"
     ]
    }
   ],
   "source": [
    "#Completa el código para obtener la salida que se indica más abajo\n",
    "Numero = int(input(\"Introduce un número entre 0 y 100\"))\n",
    "\n",
    "i=0 #variable la vamos usar para mostrar los numeros entre 0 y 100\n",
    "while True:\n",
    "    if i == Numero:\n",
    "        print(\"ENHORABUENA!! Hemos encontrado el número buscado\",i)\n",
    "        break\n",
    "    else:\n",
    "        print(\"El valor buscado NO es: \",Numero)\n",
    "        break"
   ]
  },
  {
   "cell_type": "markdown",
   "metadata": {
    "id": "PXt3Q5SxdQEF",
    "slideshow": {
     "slide_type": "slide"
    }
   },
   "source": [
    "---\n",
    "### 1.3 Bucle For(para)\n",
    "\n",
    "¿Como lo usamos?\n",
    "\n",
    "**for \\<variable> in \\<lista_valores>:**\n",
    "\n",
    "      sentencias\n",
    "\n",
    "Ejemplos de uso:  "
   ]
  },
  {
   "cell_type": "code",
   "execution_count": 8,
   "metadata": {
    "colab": {
     "base_uri": "https://localhost:8080/",
     "height": 313
    },
    "executionInfo": {
     "elapsed": 260,
     "status": "ok",
     "timestamp": 1648230794321,
     "user": {
      "displayName": "saul lazaro hermoso",
      "photoUrl": "https://lh3.googleusercontent.com/a/default-user=s64",
      "userId": "04175648419340952264"
     },
     "user_tz": -60
    },
    "id": "cEKp0KiMdOkw",
    "outputId": "56cc86f5-b597-4111-80f4-16cc81a9ee57",
    "slideshow": {
     "slide_type": "fragment"
    }
   },
   "outputs": [
    {
     "name": "stdout",
     "output_type": "stream",
     "text": [
      "perro\n",
      "gato\n",
      "elefante\n",
      "león\n",
      "Hemos acabado\n"
     ]
    }
   ],
   "source": [
    "#Completa el código para obtener la salida que se indica más abajo\n",
    "\n",
    "animales = [\"perro\", \"gato\", \"elefante\", \"león\"]\n",
    "for p in animales:\n",
    "    print(p)\n",
    "    \n",
    "print(\"Hemos acabado\")\n"
   ]
  },
  {
   "cell_type": "code",
   "execution_count": 10,
   "metadata": {
    "slideshow": {
     "slide_type": "fragment"
    }
   },
   "outputs": [
    {
     "name": "stdout",
     "output_type": "stream",
     "text": [
      "vamos a escribir los 10  primeros numeros entre 0-10\n",
      "0\n",
      "1\n",
      "2\n",
      "3\n",
      "4\n",
      "5\n",
      "6\n",
      "7\n",
      "8\n",
      "9\n",
      "10\n"
     ]
    }
   ],
   "source": [
    "# vamos a escribir los 10  primeros numeros entre 0-10\n",
    "#Completa el código para obtener la salida que se indica más abajo\n",
    "print(\"vamos a escribir los 10  primeros numeros entre 0-10\")\n",
    "lista_valores = list(range(0,11))\n",
    "for valor in lista_valores:\n",
    "    print(valor)"
   ]
  },
  {
   "cell_type": "code",
   "execution_count": 11,
   "metadata": {
    "slideshow": {
     "slide_type": "fragment"
    }
   },
   "outputs": [
    {
     "name": "stdout",
     "output_type": "stream",
     "text": [
      "Esta es otra forma de mostrar los 10 primeros números usando RANGE\n",
      "0\n",
      "1\n",
      "2\n",
      "3\n",
      "4\n",
      "5\n",
      "6\n",
      "7\n",
      "8\n",
      "9\n",
      "10\n"
     ]
    }
   ],
   "source": [
    "#Completa el código para obtener la salida que se indica más abajo\n",
    "print(\"Esta es otra forma de mostrar los 10 primeros números usando RANGE\")\n",
    "for valor in range(0,11):\n",
    "    print(valor)"
   ]
  },
  {
   "cell_type": "code",
   "execution_count": 12,
   "metadata": {
    "colab": {
     "base_uri": "https://localhost:8080/"
    },
    "executionInfo": {
     "elapsed": 266,
     "status": "ok",
     "timestamp": 1648233500761,
     "user": {
      "displayName": "saul lazaro hermoso",
      "photoUrl": "https://lh3.googleusercontent.com/a/default-user=s64",
      "userId": "04175648419340952264"
     },
     "user_tz": -60
    },
    "id": "Fs--lQcSrnc0",
    "outputId": "9bb1f0ae-cab4-47d4-9322-74f75bc10dda",
    "slideshow": {
     "slide_type": "slide"
    }
   },
   "outputs": [
    {
     "name": "stdout",
     "output_type": "stream",
     "text": [
      "El animal:  perro NO está en peligro de extinción\n",
      "El animal:  gato NO está en peligro de extinción\n",
      "Los elefantes están en peligro de extinción\n",
      "El animal:  león NO está en peligro de extinción\n"
     ]
    }
   ],
   "source": [
    "#Completa el código para obtener la salida que se indica más abajo\n",
    "animales = [\"perro\", \"gato\", \"elefante\", \"león\"]\n",
    "for animal in animales:\n",
    "    if animal == 'elefante':\n",
    "        print(\"Los elefantes están en peligro de extinción\")    \n",
    "    else:\n",
    "        print(\"El animal: \",animal, \"NO está en peligro de extinción\")\n",
    "  "
   ]
  },
  {
   "cell_type": "code",
   "execution_count": 13,
   "metadata": {
    "id": "tI-CMJVxe0sg",
    "slideshow": {
     "slide_type": "fragment"
    }
   },
   "outputs": [
    {
     "name": "stdout",
     "output_type": "stream",
     "text": [
      "0\n",
      "1\n",
      "2\n",
      "3\n",
      "4\n",
      "5\n",
      "6\n",
      "7\n",
      "8\n",
      "9\n",
      "10\n"
     ]
    }
   ],
   "source": [
    "#Mostramos por pantalla los números del 0 al 10\n",
    "for num in range(0,11):\n",
    "    print(num)"
   ]
  },
  {
   "cell_type": "code",
   "execution_count": 18,
   "metadata": {
    "id": "SgSUxedJPqGz",
    "slideshow": {
     "slide_type": "fragment"
    }
   },
   "outputs": [
    {
     "name": "stdout",
     "output_type": "stream",
     "text": [
      "0\n",
      "1\n",
      "4\n",
      "9\n",
      "16\n",
      "25\n",
      "36\n",
      "49\n",
      "64\n",
      "81\n",
      "100\n"
     ]
    }
   ],
   "source": [
    "#mostramos los cuadrados desde el 0 al 10 \n",
    "for num in range(0,11):\n",
    "    print(num ** 2)"
   ]
  },
  {
   "cell_type": "markdown",
   "metadata": {
    "slideshow": {
     "slide_type": "slide"
    }
   },
   "source": [
    "#### Importante:\n",
    "\n",
    "Si únicamente necesitamos repetir N veces una operación, podemos evitar crear una variable que no vamos a utilizar.\n",
    "\n",
    "Para ello usamos el guión bajo:"
   ]
  },
  {
   "cell_type": "code",
   "execution_count": 19,
   "metadata": {
    "slideshow": {
     "slide_type": "fragment"
    }
   },
   "outputs": [
    {
     "name": "stdout",
     "output_type": "stream",
     "text": [
      "Hola\n",
      "Hola\n",
      "Hola\n",
      "Hola\n",
      "Hola\n",
      "Ahora lo hacemos usando _:\n",
      "Hola\n",
      "Hola\n",
      "Hola\n",
      "Hola\n",
      "Hola\n"
     ]
    }
   ],
   "source": [
    "#En lugar de hacer esto y definir n que no se usa:\n",
    "for n in range(5):\n",
    "    print(\"Hola\")\n",
    "\n",
    "print(\"Ahora lo hacemos usando _:\")    \n",
    "for _ in range(5):\n",
    "    print(\"Hola\")"
   ]
  },
  {
   "cell_type": "markdown",
   "metadata": {
    "slideshow": {
     "slide_type": "slide"
    }
   },
   "source": [
    "___\n",
    "### 1.4 Break y Continue.\n",
    "\n",
    "#### Break:\n",
    "\n",
    "* La sentencia break nos permite alterar el comportamiento de los bucles while y for. Concretamente, **permite terminar con la ejecución del bucle.**\n",
    "\n",
    "\n",
    "* Esto significa que una vez se encuentra la palabra break, el bucle se habrá terminado.\n",
    "\n",
    "#### Continue:\n",
    "\n",
    "* El uso de continue al igual que el ya visto break, nos permite modificar el comportamiento de de los bucles while y for.\n",
    "\n",
    "\n",
    "* **Continue se salta todo el código restante en la iteración actual y vuelve al principio en el caso de que aún queden iteraciones por completar.**\n",
    "\n",
    "\n",
    "* La diferencia entre el break y continue es que **el continue no rompe el bucle, si no que pasa a la siguiente iteración saltando el código pendiente.**\n",
    "\n",
    "Algunos ejemplos:"
   ]
  },
  {
   "cell_type": "code",
   "execution_count": 20,
   "metadata": {
    "slideshow": {
     "slide_type": "fragment"
    }
   },
   "outputs": [
    {
     "name": "stdout",
     "output_type": "stream",
     "text": [
      "P\n",
      "y\n",
      "t\n",
      "Se encontró la h\n"
     ]
    }
   ],
   "source": [
    "#Completa el código para obtener la salida que se indica más abajo\n",
    "cadena = 'Python'\n",
    "for letra in cadena:\n",
    "    if letra == 'h':\n",
    "        print(\"Se encontró la h\")\n",
    "        break\n",
    "    print(letra)"
   ]
  },
  {
   "cell_type": "code",
   "execution_count": 27,
   "metadata": {
    "slideshow": {
     "slide_type": "fragment"
    }
   },
   "outputs": [
    {
     "name": "stdout",
     "output_type": "stream",
     "text": [
      "3\n"
     ]
    }
   ],
   "source": [
    "#Completa el código para obtener la salida que se indica más abajo\n",
    "x = 5\n",
    "while x > 0:\n",
    "    x -= 1\n",
    "    if x == 3:\n",
    "        print(x)\n",
    "        break"
   ]
  },
  {
   "cell_type": "markdown",
   "metadata": {
    "id": "q20sxpaYqFlN",
    "slideshow": {
     "slide_type": "slide"
    }
   },
   "source": [
    "---\n",
    "### 1.4 Excepciones\n",
    "\n",
    "Las excepciones son objetos que nos permiten controlar posibles errores en bloques de código.\n",
    "\n",
    "\n",
    "\n",
    "**Ejemplo:\n",
    "¿Qué pasaría si divimos un número por 0?**"
   ]
  },
  {
   "cell_type": "code",
   "execution_count": 20,
   "metadata": {
    "colab": {
     "base_uri": "https://localhost:8080/",
     "height": 165
    },
    "executionInfo": {
     "elapsed": 487,
     "status": "error",
     "timestamp": 1646856372782,
     "user": {
      "displayName": "saul lazaro hermoso",
      "photoUrl": "https://lh3.googleusercontent.com/a/default-user=s64",
      "userId": "04175648419340952264"
     },
     "user_tz": -60
    },
    "id": "1pXpIh18wXi6",
    "outputId": "4aa888d8-d38c-4d98-beef-41ffb76909ec",
    "slideshow": {
     "slide_type": "fragment"
    }
   },
   "outputs": [
    {
     "ename": "ZeroDivisionError",
     "evalue": "division by zero",
     "output_type": "error",
     "traceback": [
      "\u001b[1;31m---------------------------------------------------------------------------\u001b[0m",
      "\u001b[1;31mZeroDivisionError\u001b[0m                         Traceback (most recent call last)",
      "Input \u001b[1;32mIn [20]\u001b[0m, in \u001b[0;36m<cell line: 1>\u001b[1;34m()\u001b[0m\n\u001b[1;32m----> 1\u001b[0m \u001b[38;5;241;43m6\u001b[39;49m\u001b[38;5;241;43m/\u001b[39;49m\u001b[38;5;241;43m0\u001b[39;49m\n",
      "\u001b[1;31mZeroDivisionError\u001b[0m: division by zero"
     ]
    }
   ],
   "source": [
    "6/0"
   ]
  },
  {
   "cell_type": "markdown",
   "metadata": {
    "id": "u8gsaeQAcmaF",
    "slideshow": {
     "slide_type": "slide"
    }
   },
   "source": [
    "Para que no ocurra el error anterior, usamos el bloque de **try-except.**\n",
    "\n",
    "Vamos a ver un ejemplo:"
   ]
  },
  {
   "cell_type": "code",
   "execution_count": 32,
   "metadata": {
    "colab": {
     "base_uri": "https://localhost:8080/"
    },
    "executionInfo": {
     "elapsed": 6604,
     "status": "ok",
     "timestamp": 1648234134256,
     "user": {
      "displayName": "saul lazaro hermoso",
      "photoUrl": "https://lh3.googleusercontent.com/a/default-user=s64",
      "userId": "04175648419340952264"
     },
     "user_tz": -60
    },
    "id": "Xf6MVtgDfe-0",
    "outputId": "f20a9b9b-6e1d-4064-f85e-72d76ed484f9",
    "slideshow": {
     "slide_type": "fragment"
    }
   },
   "outputs": [
    {
     "name": "stdout",
     "output_type": "stream",
     "text": [
      "División perfecta\n",
      "Resultado:  1.125\n",
      "Operación finalizada\n"
     ]
    }
   ],
   "source": [
    "#Completa el código para obtener la salida que se indica más abajo\n",
    "N = int(input(\"Introduce un número\"))\n",
    "N2 = int(input(\"Introduce otro número\"))\n",
    "try:\n",
    "    resultado = N/N2\n",
    "except ZeroDivisionError as e: #esta parte solo se ejecuta cuando hay un error\n",
    "    print(\"Error:\",e)\n",
    "else:#esta parte se ejecuta solo cuando va todo OK\n",
    "    print(\"División perfecta\")\n",
    "    print(\"Resultado: \",resultado)\n",
    "finally:#esta parte se ejecuta siempre\n",
    "    print(\"Operación finalizada\")"
   ]
  },
  {
   "cell_type": "code",
   "execution_count": 23,
   "metadata": {
    "colab": {
     "base_uri": "https://localhost:8080/",
     "height": 252
    },
    "executionInfo": {
     "elapsed": 12527,
     "status": "error",
     "timestamp": 1648234470496,
     "user": {
      "displayName": "saul lazaro hermoso",
      "photoUrl": "https://lh3.googleusercontent.com/a/default-user=s64",
      "userId": "04175648419340952264"
     },
     "user_tz": -60
    },
    "id": "crsj7DHPRd7i",
    "outputId": "49aa4c38-b2c7-4339-c16e-db7bb43e1909",
    "slideshow": {
     "slide_type": "fragment"
    }
   },
   "outputs": [
    {
     "name": "stdout",
     "output_type": "stream",
     "text": [
      "Introduce tu edad: saul\n"
     ]
    },
    {
     "ename": "ValueError",
     "evalue": "invalid literal for int() with base 10: 'saul'",
     "output_type": "error",
     "traceback": [
      "\u001b[1;31m---------------------------------------------------------------------------\u001b[0m",
      "\u001b[1;31mValueError\u001b[0m                                Traceback (most recent call last)",
      "Input \u001b[1;32mIn [23]\u001b[0m, in \u001b[0;36m<cell line: 2>\u001b[1;34m()\u001b[0m\n\u001b[0;32m      1\u001b[0m \u001b[38;5;66;03m#qué pasaría si en lugar de introducir un número metemos una letra o una palabra?\u001b[39;00m\n\u001b[1;32m----> 2\u001b[0m edad \u001b[38;5;241m=\u001b[39m \u001b[38;5;28;43mint\u001b[39;49m\u001b[43m(\u001b[49m\u001b[38;5;28;43minput\u001b[39;49m\u001b[43m(\u001b[49m\u001b[38;5;124;43m\"\u001b[39;49m\u001b[38;5;124;43mIntroduce tu edad: \u001b[39;49m\u001b[38;5;124;43m\"\u001b[39;49m\u001b[43m)\u001b[49m\u001b[43m)\u001b[49m\n\u001b[0;32m      3\u001b[0m \u001b[38;5;28;01mif\u001b[39;00m edad \u001b[38;5;241m>\u001b[39m\u001b[38;5;241m=\u001b[39m \u001b[38;5;241m18\u001b[39m:\n\u001b[0;32m      4\u001b[0m     \u001b[38;5;28mprint\u001b[39m(\u001b[38;5;124m\"\u001b[39m\u001b[38;5;124mEres mayor de edad\u001b[39m\u001b[38;5;124m\"\u001b[39m)\n",
      "\u001b[1;31mValueError\u001b[0m: invalid literal for int() with base 10: 'saul'"
     ]
    }
   ],
   "source": [
    "#qué pasaría si en lugar de introducir un número metemos una letra o una palabra?\n",
    "edad = int(input(\"Introduce tu edad: \"))\n",
    "\n",
    "if edad >= 18:\n",
    "    print(\"Eres mayor de edad\")\n",
    "else:\n",
    "    print(\"No eres mayor de edad\")"
   ]
  },
  {
   "cell_type": "code",
   "execution_count": 33,
   "metadata": {
    "colab": {
     "base_uri": "https://localhost:8080/"
    },
    "executionInfo": {
     "elapsed": 3321,
     "status": "ok",
     "timestamp": 1647376564138,
     "user": {
      "displayName": "saul lazaro hermoso",
      "photoUrl": "https://lh3.googleusercontent.com/a/default-user=s64",
      "userId": "04175648419340952264"
     },
     "user_tz": -60
    },
    "id": "UpfDn71WRs9D",
    "outputId": "65c8c0ea-e061-407a-8d44-a73c24c16c51",
    "slideshow": {
     "slide_type": "fragment"
    }
   },
   "outputs": [
    {
     "name": "stdout",
     "output_type": "stream",
     "text": [
      "Debe introducir un número. invalid literal for int() with base 10: 'pedro'\n"
     ]
    }
   ],
   "source": [
    "#Completa el código para obtener la salida que se indica más abajo\n",
    "try:\n",
    "    edad = int(input(\"Introduce tu edad: \"))\n",
    "    if edad >= 18:\n",
    "        print(\"Eres mayor de edad\")\n",
    "    else:\n",
    "        print(\"No eres mayor de edad\")\n",
    "except ValueError as a: # Cuando salte la excepcion ValueError el texto descriptivo lo vamos a almacenar en la variable a, pero podemos poner cualquier nombre de variable(x, n, texto...)\n",
    "    print(\"Debe introducir un número.\",a)"
   ]
  },
  {
   "cell_type": "markdown",
   "metadata": {
    "id": "VslC5UNMFEKN",
    "slideshow": {
     "slide_type": "slide"
    }
   },
   "source": [
    "---\n",
    "**Ejercicio 6**\n",
    "\n",
    "Escribir un programa que pida al usuario una palabra y la muestre por pantalla 10 veces.\n",
    "\n",
    "**Solución:**"
   ]
  },
  {
   "cell_type": "code",
   "execution_count": 34,
   "metadata": {
    "slideshow": {
     "slide_type": "fragment"
    }
   },
   "outputs": [
    {
     "name": "stdout",
     "output_type": "stream",
     "text": [
      "sadas\n",
      "sadas\n",
      "sadas\n",
      "sadas\n",
      "sadas\n",
      "sadas\n",
      "sadas\n",
      "sadas\n",
      "sadas\n",
      "sadas\n",
      "sadas\n"
     ]
    }
   ],
   "source": [
    "Palabra = input(\"Introduce una palabra:\")\n",
    "\n",
    "for _ in range(0,11):\n",
    "    print(Palabra)"
   ]
  },
  {
   "cell_type": "markdown",
   "metadata": {
    "id": "AeJWWN6glJ3M",
    "slideshow": {
     "slide_type": "slide"
    }
   },
   "source": [
    "---\n",
    "**Ejercicio 7**\n",
    "\n",
    "Escribir un programa que muestre por pantalla una cuenta atrás desde el 10 al 0.\n",
    "\n",
    "**Solución:**"
   ]
  },
  {
   "cell_type": "code",
   "execution_count": 36,
   "metadata": {
    "id": "NS4m1PSGn-8m",
    "slideshow": {
     "slide_type": "fragment"
    }
   },
   "outputs": [
    {
     "name": "stdout",
     "output_type": "stream",
     "text": [
      "10\n",
      "9\n",
      "8\n",
      "7\n",
      "6\n",
      "5\n",
      "4\n",
      "3\n",
      "2\n",
      "1\n",
      "0\n"
     ]
    }
   ],
   "source": [
    "num = 10\n",
    "\n",
    "while num >= 0:\n",
    "    print(num)\n",
    "    num -= 1\n"
   ]
  },
  {
   "cell_type": "markdown",
   "metadata": {
    "id": "GgS81_5vouAB",
    "slideshow": {
     "slide_type": "slide"
    }
   },
   "source": [
    "---\n",
    "**Ejercicio 8**\n",
    "\n",
    "a) Programa que lee del teclado un número entero, comprueba si el número es mayor que 10. Si no lo es, volver a leer el número  hasta que el usuario escriba un valor correcto.\n",
    "\n",
    "b) Tomando como referencia el apartado a, además de comprobar si el número es mayor 10, cuando se obtenga un número mayor que 10, mostrar por pantalla la suma de todos los números introducidos por el usuario.\n",
    "\n",
    "**Solución:**"
   ]
  },
  {
   "cell_type": "code",
   "execution_count": 49,
   "metadata": {
    "id": "IDf2TP-qou5E",
    "slideshow": {
     "slide_type": "fragment"
    }
   },
   "outputs": [
    {
     "name": "stdout",
     "output_type": "stream",
     "text": [
      "El número: 5 es menor de 10, introduce otro.\n",
      "El número: 3 es menor de 10, introduce otro.\n",
      "Suma de todos los números introducidos: 18\n"
     ]
    }
   ],
   "source": [
    "SumaNumeros = 0\n",
    "while True:\n",
    "    Numero = int(input(\"Introduce un número entero:\"))\n",
    "\n",
    "    if Numero >= 10:\n",
    "        SumaNumeros += Numero\n",
    "        break\n",
    "    else:\n",
    "        print(f\"El número: {Numero} es menor de 10, introduce otro.\")\n",
    "        SumaNumeros += Numero\n",
    "\n",
    "print(f\"Suma de todos los números introducidos: {SumaNumeros}\")"
   ]
  },
  {
   "cell_type": "markdown",
   "metadata": {
    "id": "WqTMn5he8Jcm",
    "slideshow": {
     "slide_type": "slide"
    }
   },
   "source": [
    "---\n",
    "####  Ejercicio 9\n",
    "\n",
    "Escribir un programa que pida al usuario un número entero y muestre por pantalla un triángulo rectángulo como el de más abajo, de altura el número introducido.\n",
    "\n",
    "![Captura.PNG](data:image/png;base64,iVBORw0KGgoAAAANSUhEUgAAAG4AAACMCAYAAACd15xyAAAAAXNSR0IArs4c6QAAAARnQU1BAACxjwv8YQUAAAAJcEhZcwAADsMAAA7DAcdvqGQAAASnSURBVHhe7d2/a9toHMfx+580GQyGDIaCp3hJOIjI0qUmQ6dmOm7xLc4SDg7TIRw0dHGWDgEPQV1yg9FBUOFw4EAQ0BAwGASBeDCfe5QfbdMqOKqfR/Hn9BG8SGwpiuFtPfLwTfsTCm7z+Ryz2QzX19fyjAqFy6LlnUTKVyicrrTVUShc3gnkeSgcKYUjpXCkFI6UwpFSOFIKR0rhSCkcKWfh4pM+9odx7j5ZnrNwyVEH3l6Yu0+WZzfcZYgPJ2NMrm7DdY4SXF+liEcBosuc4+WHWQ2XfjrE6/UGvHoT/kYLre0O/DUP3lob3aGJmPMz8mPcLJXTCAfbJlizh+AyzT9GluIgXIpwr4322xCney20zX0uzT1OlmE9XHK8i1qrhzA1j6cBuvUado+1TNrm5IpLLr4sj8k/0c2HlYfHyLLc3OPEOYUjpXCkFI6UwpFSOFIKR0rhSCkcKYUjpXCkFI6UwpFSOFIKR0rhSDkLt3iuMkbwxz6G/+btk0WchVs8V5lg8MpDb5S3TxaxG+4Jc5WT0QcE5xPzfRaug8GFeT6NEZ5EmHx7PnmU1XCL5ypTRO9eo22eq73wsdlqwd/x0fA8NNa7GCb555XvuVkqnzBXmZ4dwDfBmnsBJtlEWM4x8jgH4Z4wVzkN0Vtvoz86Ra/VNvc5Dc0WZT3c4rnKBMM3NbTugqYfu6jVd7VMFuTkils4VzlNkEzvHycYf8o+rHy1XxZyc48T5xSOlMKRUjhSCkdK4UgpHCmFI6VwpBSOlMKRUjhSCkdK4UgpHCmFI6VwpJyFszIQOwkx+P0Q4SRnX8U5C2dnIDZEz7ubvczdX112w1kaiB2fDBDG2dxKFq6H8ObcYwR/jW9/j9gNZ2cgNkHwm49m3Ty35aPt+Xi500TNq6H58wGinN9bRW6WSksDscnxL2iaYzrvx0j1L/A94CCcpYHYeIDO2i6GZ+Zr3Syp8Tf7K856OCsDsWmE/oa50rJ7pHk8fufD2+gj0qj6Z06uOCsDsYk55v7n0jEi/R3dA27uceKcwpFSOFIKR0rhSCkcKYUjpXCkFI6UwpFSOFIKR0rhSCkcKYUjpXCknIUrba6yorOXzsKVN1dZzdlLu+FKnKus+uyl1XDlzVVq9tLNUlniXGVVZy8dhCtxrrLCs5fWw5U2V1nx2UsnV1xpc5UVnr10c48T5xSOlMKRUjhSCkdK4UgpHCmFI6VwpBSOlMKRUjhSCkdK4UgpHCmFI+Us3CrNVU7+HmD/ffi/+u+qnYVbqbnKUQ/eqwGSvH2k7IZbpbnKK/P9UYg4m0HJwt29iSbnAU7Pb8/BzGq4lZqrvAjQ3c6ea8DfasPbeonOi9rNa9v8M/r8mlm5WSpXaa7yKsHw1yY8s5wenue/FkYOwq3WXGVsluzGmyEi87W2M0D8yBuAjfVwqzRXmZ71sXn/wcXc8w63PGy+jb5/IxFycsWt0lxlcvHlTZOeR7ri5HkpHCmFI6VwpBSOlMKRUjhSCkdK4UgpHCmFI6VwpBSOlMKRUjhShcLNZrPck0j5CoWbz+e5J5HyFQqXbVk8XXnPr3A4bauxKRzppnCkm8JRbsB/yHZO0LXVTzQAAAAASUVORK5CYII=)"
   ]
  },
  {
   "cell_type": "markdown",
   "metadata": {
    "id": "UgCUDTseCLBx",
    "slideshow": {
     "slide_type": "slide"
    }
   },
   "source": [
    "Tenemos que hacer dos bucles:\n",
    "\n",
    "1- Bucle para el nº de filas\n",
    "\n",
    "2- Bucle para el nº de asteriscos por fila.\n",
    "\n",
    "**Solución:**"
   ]
  },
  {
   "cell_type": "code",
   "execution_count": 1,
   "metadata": {
    "colab": {
     "base_uri": "https://localhost:8080/"
    },
    "executionInfo": {
     "elapsed": 2141,
     "status": "ok",
     "timestamp": 1648462636372,
     "user": {
      "displayName": "saul lazaro hermoso",
      "photoUrl": "https://lh3.googleusercontent.com/a/default-user=s64",
      "userId": "04175648419340952264"
     },
     "user_tz": -120
    },
    "id": "WQSWZ7lO8SWB",
    "outputId": "654e73d2-0220-4b57-d8e6-93d8c26ad681",
    "slideshow": {
     "slide_type": "fragment"
    }
   },
   "outputs": [
    {
     "ename": "ValueError",
     "evalue": "invalid literal for int() with base 10: ''",
     "output_type": "error",
     "traceback": [
      "\u001b[1;31m---------------------------------------------------------------------------\u001b[0m",
      "\u001b[1;31mValueError\u001b[0m                                Traceback (most recent call last)",
      "Cell \u001b[1;32mIn[1], line 1\u001b[0m\n\u001b[1;32m----> 1\u001b[0m altura \u001b[38;5;241m=\u001b[39m \u001b[38;5;28;43mint\u001b[39;49m\u001b[43m(\u001b[49m\u001b[38;5;28;43minput\u001b[39;49m\u001b[43m(\u001b[49m\u001b[38;5;124;43m\"\u001b[39;49m\u001b[38;5;124;43mIntroduce un número entero:\u001b[39;49m\u001b[38;5;124;43m\"\u001b[39;49m\u001b[43m)\u001b[49m\u001b[43m)\u001b[49m\n\u001b[0;32m      3\u001b[0m \u001b[38;5;28;01mfor\u001b[39;00m i \u001b[38;5;129;01min\u001b[39;00m \u001b[38;5;28mrange\u001b[39m(altura):\n\u001b[0;32m      4\u001b[0m     \u001b[38;5;28;01mfor\u001b[39;00m j \u001b[38;5;129;01min\u001b[39;00m \u001b[38;5;28mrange\u001b[39m(i \u001b[38;5;241m+\u001b[39m \u001b[38;5;241m1\u001b[39m):\n",
      "\u001b[1;31mValueError\u001b[0m: invalid literal for int() with base 10: ''"
     ]
    }
   ],
   "source": [
    "altura = int(input(\"Introduce un número entero para la altura del triángulo: \"))\n",
    "\n",
    "for i in range(1, altura + 1):\n",
    "    for j in range(i):\n",
    "        print(\"*\", end=\" \")\n",
    "    print()\n"
   ]
  },
  {
   "cell_type": "markdown",
   "metadata": {
    "id": "bf6VrWSR9787",
    "slideshow": {
     "slide_type": "slide"
    }
   },
   "source": [
    "---\n",
    "#### Ejercicio 10\n",
    "\n",
    "Escribir un programa que almacene una cadena de caracteres  con una palabra **secreta** en una variable, pregunte al usuario por la palabra hasta que introduzca la palabra secreta correcta.\n",
    "\n",
    "**Solución:**\n"
   ]
  },
  {
   "cell_type": "code",
   "execution_count": 2,
   "metadata": {
    "colab": {
     "base_uri": "https://localhost:8080/"
    },
    "executionInfo": {
     "elapsed": 4,
     "status": "ok",
     "timestamp": 1648832022505,
     "user": {
      "displayName": "saul lazaro hermoso",
      "userId": "04175648419340952264"
     },
     "user_tz": -120
    },
    "id": "MqkbYEQ2-GKt",
    "outputId": "37079037-a950-436b-861d-d49a04af886d",
    "slideshow": {
     "slide_type": "fragment"
    }
   },
   "outputs": [
    {
     "name": "stdout",
     "output_type": "stream",
     "text": [
      "¡Has acertado la palabra secreta!\n"
     ]
    }
   ],
   "source": [
    "PalabraSecreta = \"secreto\"\n",
    "\n",
    "while True:\n",
    "    palabra = input(\"Introduce la palabra secreta:\")\n",
    "    respuesta = palabra.lower()\n",
    "\n",
    "    if respuesta == PalabraSecreta:\n",
    "        print(\"¡Has acertado la palabra secreta!\")\n",
    "        break\n",
    "    else:\n",
    "        print(\"¡No has acertado la palabra secreta!\")"
   ]
  },
  {
   "cell_type": "markdown",
   "metadata": {
    "id": "ZVT8OwH0CPvS",
    "slideshow": {
     "slide_type": "slide"
    }
   },
   "source": [
    "---\n",
    "#### Ejercicio 11\n",
    "\n",
    "Escribir un programa que pida al usuario un número entero mayor que 1 y muestre por pantalla si es un número primo o no.\n",
    "\n",
    "En matemáticas, un número primo **si es un número natural mayor que 1 que tiene únicamente dos divisores positivos distintos: él mismo y el 1.**\n",
    "\n",
    "**Solución:**"
   ]
  },
  {
   "cell_type": "code",
   "execution_count": 7,
   "metadata": {
    "id": "K6aSj-UPCTCK",
    "slideshow": {
     "slide_type": "fragment"
    }
   },
   "outputs": [
    {
     "name": "stdout",
     "output_type": "stream",
     "text": [
      "El número 4 no es primo.\n",
      "El número 5 es primo.\n"
     ]
    }
   ],
   "source": [
    "while True:\n",
    "    Numero = int(input(\"Introduce un número entero mayor que 1:\"))\n",
    "    if Numero > 1:\n",
    "        for i in range(2, Numero):\n",
    "            if (Numero % i) == 0:\n",
    "                print(f\"El número {Numero} no es primo.\")\n",
    "                break\n",
    "        else:\n",
    "            print(f\"El número {Numero} es primo.\")\n",
    "            break\n",
    "    else:\n",
    "        print(\"No has introducido un número mayor que 1, introduce otro...\")"
   ]
  },
  {
   "cell_type": "markdown",
   "metadata": {
    "id": "eKiSqXzwCVFh",
    "slideshow": {
     "slide_type": "slide"
    }
   },
   "source": [
    "---\n",
    "#### Ejercicio 12\n",
    "\n",
    "Escribir un programa que pida al usuario una palabra y luego muestre por pantalla una a una las letras de la palabra introducida\n",
    "\n",
    "**Solución:**"
   ]
  },
  {
   "cell_type": "code",
   "execution_count": 8,
   "metadata": {
    "colab": {
     "base_uri": "https://localhost:8080/"
    },
    "executionInfo": {
     "elapsed": 3535,
     "status": "ok",
     "timestamp": 1649429407383,
     "user": {
      "displayName": "saul lazaro hermoso",
      "userId": "04175648419340952264"
     },
     "user_tz": -120
    },
    "id": "J3wVRRajDsqn",
    "outputId": "bb69a3f0-f91e-4a34-9d89-8abfee893f33",
    "slideshow": {
     "slide_type": "fragment"
    }
   },
   "outputs": [
    {
     "name": "stdout",
     "output_type": "stream",
     "text": [
      "H\n",
      "o\n",
      "l\n",
      "a\n"
     ]
    }
   ],
   "source": [
    "Palabra = input(\"Introduce una palabra:\")\n",
    "\n",
    "for letras in Palabra:\n",
    "    print(letras)"
   ]
  },
  {
   "cell_type": "markdown",
   "metadata": {
    "id": "OHZVUI_CDth3",
    "slideshow": {
     "slide_type": "slide"
    }
   },
   "source": [
    "---\n",
    "#### Ejercicio 13\n",
    "\n",
    "Escribir un programa en el que se pregunte al usuario por una frase y una letra, y muestre por pantalla el número de veces que aparece la letra en la frase.\n",
    "\n",
    "a) Resuelve el ejercicio aplicando métodos de la clase str.\n",
    "\n",
    "b) Resuelve el problema utilizando bucles y condiciones.\n",
    "\n",
    "\n",
    "**Solución:**"
   ]
  },
  {
   "cell_type": "code",
   "execution_count": 2,
   "metadata": {
    "slideshow": {
     "slide_type": "fragment"
    }
   },
   "outputs": [
    {
     "name": "stdout",
     "output_type": "stream",
     "text": [
      "La letra introducida aparece 3 veces.\n"
     ]
    }
   ],
   "source": [
    "Frase = input(\"Introduce una frase:\")\n",
    "Letra = input(\"Introduce una letra:\")\n",
    "\n",
    "numLetras = Frase.count(Letra)\n",
    "\n",
    "print(f\"La letra introducida aparece {numLetras} veces.\")"
   ]
  },
  {
   "cell_type": "code",
   "execution_count": 3,
   "metadata": {
    "colab": {
     "base_uri": "https://localhost:8080/"
    },
    "executionInfo": {
     "elapsed": 19825,
     "status": "ok",
     "timestamp": 1649430263078,
     "user": {
      "displayName": "saul lazaro hermoso",
      "userId": "04175648419340952264"
     },
     "user_tz": -120
    },
    "id": "lg76-dw4DzjO",
    "outputId": "46d97ad8-f3de-4c13-9e11-0b762903c4fd",
    "slideshow": {
     "slide_type": "fragment"
    }
   },
   "outputs": [
    {
     "name": "stdout",
     "output_type": "stream",
     "text": [
      "La letra introducida aparece 3 veces.\n"
     ]
    }
   ],
   "source": [
    "Frase = input(\"Introduce una frase:\")\n",
    "Letra = input(\"Introduce una letra:\")\n",
    "\n",
    "numLetras = 0\n",
    "\n",
    "for letras in Frase:\n",
    "    if letras == Letra:\n",
    "        numLetras += 1\n",
    "\n",
    "print(f\"La letra introducida aparece {numLetras} veces.\")"
   ]
  },
  {
   "cell_type": "markdown",
   "metadata": {
    "slideshow": {
     "slide_type": "slide"
    }
   },
   "source": [
    "---\n",
    "**Ejercicio 13 ampliado**  \n",
    "\n",
    "En esta versión vamos a contar cuantas veces aparece cada una de las letras de la frase.\n",
    "\n",
    "**Solución:**"
   ]
  },
  {
   "cell_type": "code",
   "execution_count": null,
   "metadata": {
    "colab": {
     "base_uri": "https://localhost:8080/"
    },
    "executionInfo": {
     "elapsed": 6259,
     "status": "ok",
     "timestamp": 1649441036938,
     "user": {
      "displayName": "saul lazaro hermoso",
      "userId": "04175648419340952264"
     },
     "user_tz": -120
    },
    "id": "SvFPkWRNx7MM",
    "outputId": "0e16e6c7-d13a-4c2f-c242-a217d5c0c4c7",
    "slideshow": {
     "slide_type": "fragment"
    }
   },
   "outputs": [],
   "source": []
  },
  {
   "cell_type": "markdown",
   "metadata": {
    "id": "nVD6JdXhD0JO",
    "slideshow": {
     "slide_type": "slide"
    }
   },
   "source": [
    "---\n",
    "#### **Ejercicio 14**\n",
    "Diseña un algoritmo que dada una frase, busque las palabras en mayusculas y las muestre por pantalla. Por ejemplo, en la frase: \n",
    "\n",
    "**\"El GATO blanco ESTABA subido al TEJADO\"**\n",
    "\n",
    "Palabras en mayúsculas:  \n",
    "GATO, ESTABA, TEJADO\n",
    "\n",
    "**Solución:**"
   ]
  },
  {
   "cell_type": "code",
   "execution_count": 4,
   "metadata": {
    "colab": {
     "base_uri": "https://localhost:8080/"
    },
    "executionInfo": {
     "elapsed": 2631,
     "status": "ok",
     "timestamp": 1650389170419,
     "user": {
      "displayName": "saul lazaro hermoso",
      "userId": "04175648419340952264"
     },
     "user_tz": -120
    },
    "id": "BH137C49D_gn",
    "outputId": "778a1632-a14b-49bb-af03-7ed752b0d17a",
    "slideshow": {
     "slide_type": "fragment"
    }
   },
   "outputs": [
    {
     "name": "stdout",
     "output_type": "stream",
     "text": [
      "BUENOS\n"
     ]
    }
   ],
   "source": [
    "Frase = input(\"Introduce una frase:\")\n",
    "\n",
    "palabras = Frase.split()\n",
    "\n",
    "for palabra in palabras:\n",
    "    if palabra.isupper():\n",
    "        print(palabra)"
   ]
  },
  {
   "cell_type": "markdown",
   "metadata": {
    "id": "6NnZ1pJqGAzc",
    "slideshow": {
     "slide_type": "slide"
    }
   },
   "source": [
    "___\n",
    "#### Ejercicio 15\n",
    "\n",
    "Juguemos al juego de adivinar el numero, generaremos un número entre 1 y 100. Para ello utiliza la libreria random(investiga un poco para ver como puedes usarla)\n",
    "\n",
    "Nuestro objetivo es adivinar el número. Si fallamos nos dirán si es mayor o menor que el número buscado. \n",
    "\n",
    "Ejemplo de como debe funcionar el programa:\n",
    "\n",
    "![Captura.PNG](data:image/png;base64,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)\n",
    "\n",
    "**Solución:**"
   ]
  },
  {
   "cell_type": "code",
   "execution_count": 4,
   "metadata": {
    "colab": {
     "base_uri": "https://localhost:8080/"
    },
    "executionInfo": {
     "elapsed": 20866,
     "status": "ok",
     "timestamp": 1649440012294,
     "user": {
      "displayName": "saul lazaro hermoso",
      "userId": "04175648419340952264"
     },
     "user_tz": -120
    },
    "id": "dZZCQz7a4x0A",
    "outputId": "9bbdff68-915e-4f24-916c-ad64c7ca72cd",
    "slideshow": {
     "slide_type": "fragment"
    }
   },
   "outputs": [
    {
     "name": "stdout",
     "output_type": "stream",
     "text": [
      "¡El número 33 es menor al buscado!\n",
      "El numero buscado es: 38\n",
      "¡El número 40 es mayor al buscado!\n",
      "El numero buscado es: 38\n",
      "¡El número 38 es el buscado!\n"
     ]
    }
   ],
   "source": [
    "import random\n",
    "\n",
    "NumeroAleatorio = random.randrange(1, 100)\n",
    "\n",
    "while True:\n",
    "    Numero = int(input(\"Introduce un número:\"))\n",
    "    \n",
    "    if Numero == NumeroAleatorio:\n",
    "        print(f\"¡El número {Numero} es el buscado!\")\n",
    "        break\n",
    "    elif Numero > NumeroAleatorio:\n",
    "        print(f\"¡El número {Numero} es mayor al buscado!\")\n",
    "        print(f\"El numero buscado es: {NumeroAleatorio}\") #Esto no aparecería normalmente..\n",
    "    else:\n",
    "        print(f\"¡El número {Numero} es menor al buscado!\")\n",
    "        print(f\"El numero buscado es: {NumeroAleatorio}\") #Esto no aparecería normalmente.."
   ]
  },
  {
   "cell_type": "markdown",
   "metadata": {
    "id": "D2WHh3LEqvq5",
    "slideshow": {
     "slide_type": "slide"
    }
   },
   "source": [
    "---\n",
    "**Ejercicio 16.**\n",
    "\n",
    "Diseña un programa que te ayude a calcular la nota media que tendrás al finalizar el curso.  \n",
    "\n",
    "1- El algoritmo irá pidiendo una nota.\n",
    "\n",
    "2- Tras introducir una nota preguntará si deseas introducir otra.\n",
    "\n",
    "3- Si la respuesta es:\n",
    "\n",
    "\n",
    "*   Sí: Nos pide otra nota.\n",
    "*   No: calcula la media de las notas recogidas y muestra el resultado con 2 decimales en pantalla.\n",
    "\n",
    "**Solución:**\n"
   ]
  },
  {
   "cell_type": "code",
   "execution_count": 12,
   "metadata": {
    "colab": {
     "base_uri": "https://localhost:8080/"
    },
    "executionInfo": {
     "elapsed": 73196,
     "status": "ok",
     "timestamp": 1650282287605,
     "user": {
      "displayName": "saul lazaro hermoso",
      "userId": "04175648419340952264"
     },
     "user_tz": -120
    },
    "id": "7XjtrR30Hk3y",
    "outputId": "afd0babb-d8d7-48d3-b6c4-3d02d140fdc2",
    "slideshow": {
     "slide_type": "fragment"
    }
   },
   "outputs": [
    {
     "name": "stdout",
     "output_type": "stream",
     "text": [
      "\n",
      "La nota media es: 4.25\n"
     ]
    }
   ],
   "source": [
    "Notas = []\n",
    "\n",
    "while True:\n",
    "\n",
    "    Nota = float(input(\"Introduce tu nota:\"))\n",
    "    Notas.append(Nota)\n",
    "\n",
    "    Pregunta = input(\"¿Deseas introducir otra nota? (Sí/No)\").lower()\n",
    "\n",
    "    if Pregunta != 'si' and Pregunta != 'sí':\n",
    "        if Notas:\n",
    "            media = sum(Notas) / len(Notas)\n",
    "            print(f\"\\nLa nota media es: {media:.2f}\")\n",
    "            break\n",
    "        else:\n",
    "            print(\"No has introducido ninguna nota..\")\n",
    "\n"
   ]
  },
  {
   "cell_type": "markdown",
   "metadata": {
    "id": "eN6hqfJ_x2ja",
    "slideshow": {
     "slide_type": "slide"
    }
   },
   "source": [
    "---\n",
    "#### Ejercicio 17. Juego del ahorcado.\n",
    "1- Numero de intentos del juego será 10.\n",
    "\n",
    "2- Tendremos una lista de palabras. Lo ideal seria cargar un fichero con todas las palabras del español, pero por simplificar añadiremos 10 palabras a una lista.\n",
    "\n",
    "3- Cogeremos una de forma aletoria de esta lista de palabras. Una vez hecho, dará comienzo el juego del ahorcado. **Nota:** investigar la forma de coger un elemento de forma aletoria de una lista de valores.\n",
    "\n",
    "4- Se nos irá pidiendo una letra en cada ronda, si acertamos se descubrirán las posiciones de la palabra que contengan esa letra. Si fallamos se mantendrán ocultas con un * o un #.\n",
    "\n",
    "5- Tras introducir letra, el juego preguntará al jugador si quiere resolver, si la respuesta es Si, pedirá la palabra al jugador. Podrán ocurrir 3 situaciones:  \n",
    "\n",
    "1.   **El jugador acierta.** La palabra introducida es correcta, el juego acaba con un mensaje de enhorabuena.\n",
    "2.   **No acierta.** El juego continua.\n",
    "3.   Ronda 10 y no se acierta. **El jugador pierde automáticamente.**\n",
    "\n",
    "\n",
    "![Captura.PNG](data:image/png;base64,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)\n",
    "\n",
    "**Solución:**"
   ]
  },
  {
   "cell_type": "code",
   "execution_count": null,
   "metadata": {
    "colab": {
     "base_uri": "https://localhost:8080/"
    },
    "executionInfo": {
     "elapsed": 117696,
     "status": "ok",
     "timestamp": 1650647261887,
     "user": {
      "displayName": "saul lazaro hermoso",
      "userId": "04175648419340952264"
     },
     "user_tz": -120
    },
    "id": "aexJT6WQXL0S",
    "outputId": "34ab08df-0670-4432-a11b-e8d064462629",
    "slideshow": {
     "slide_type": "fragment"
    }
   },
   "outputs": [],
   "source": [
    "import random\n",
    "\n",
    "intentos_maximos = 10\n",
    "palabras = [\"python\", \"programacion\", \"ahorcado\", \"desarrollo\", \"sistemas\", \"gestion\", \"datos\", \"jugador\", \"programador\", \"tecnologia\"]\n",
    "palabra_secreta = random.choice(palabras)\n",
    "letras_adivinadas = []\n",
    "intentos = 0\n",
    "\n",
    "print(\"¡Bienvenido al juego del ahorcado!\")\n",
    "print(\"Palabra a adivinar: \" + \" \".join([\"*\" for _ in palabra_secreta]))\n",
    "\n",
    "while intentos < intentos_maximos:\n",
    "    letra = input(\"Introduce una letra: \").lower()\n",
    "\n",
    "    if letra.isalpha() and len(letra) == 1:\n",
    "        if letra in letras_adivinadas:\n",
    "            print(\"Ya has introducido esa letra. Prueba con otra.\")\n",
    "        elif letra in palabra_secreta:\n",
    "            letras_adivinadas.append(letra)\n",
    "            print(\"¡Bien hecho! Letra correcta.\")\n",
    "            palabra_oculta = \" \".join([letra if letra in letras_adivinadas else \"*\" for letra in palabra_secreta])\n",
    "            print(\"Palabra actual: \" + palabra_oculta)\n",
    "            if \"*\" not in palabra_oculta:\n",
    "                print(\"¡Enhorabuena! Has adivinado la palabra correctamente.\")\n",
    "                break\n",
    "        else:\n",
    "            intentos += 1\n",
    "            print(f\"Letra incorrecta. Te quedan {intentos_maximos - intentos} intentos.\")\n",
    "            print(\"Palabra actual: \" + \" \".join([letra if letra in letras_adivinadas else \"*\" for letra in palabra_secreta]))\n",
    "    else:\n",
    "        print(\"Entrada no válida. Introduce una letra.\")\n",
    "\n",
    "if \"*\" in \" \".join([letra if letra in letras_adivinadas else \"*\" for letra in palabra_secreta]):\n",
    "    resolver = input(\"¿Quieres resolver la palabra? (Si/No): \").lower()\n",
    "    if resolver == \"si\":\n",
    "        palabra_usuario = input(\"Introduce la palabra: \").lower()\n",
    "        if palabra_usuario == palabra_secreta:\n",
    "            print(\"¡Enhorabuena! Has adivinado la palabra correctamente.\")\n",
    "        else:\n",
    "            print(f\"¡Incorrecto! La palabra correcta era: {palabra_secreta}. Has perdido.\")\n",
    "    else:\n",
    "        print(f\"¡Has perdido! La palabra correcta era: {palabra_secreta}.\")"
   ]
  }
 ],
 "metadata": {
  "celltoolbar": "Slideshow",
  "colab": {
   "authorship_tag": "ABX9TyOxQ5e55SVSEtInXanQMQzO",
   "collapsed_sections": [],
   "provenance": [],
   "toc_visible": true
  },
  "kernelspec": {
   "display_name": "Python 3 (ipykernel)",
   "language": "python",
   "name": "python3"
  },
  "language_info": {
   "codemirror_mode": {
    "name": "ipython",
    "version": 3
   },
   "file_extension": ".py",
   "mimetype": "text/x-python",
   "name": "python",
   "nbconvert_exporter": "python",
   "pygments_lexer": "ipython3",
   "version": "3.12.1"
  },
  "rise": {
   "scroll": true,
   "start_slideshow_at": "beginning"
  }
 },
 "nbformat": 4,
 "nbformat_minor": 1
}
